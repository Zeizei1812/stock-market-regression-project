{
 "cells": [
  {
   "cell_type": "markdown",
   "id": "09cfe98f-0dcc-4088-a631-231bafcc7670",
   "metadata": {},
   "source": [
    "# Introduction\n",
    "\n",
    "Let's be realistic, what would the world be without Starbucks? The stock price of this famous company represents the key to its sustainability and success. From this perspective, we, proud inhabitants of the kingdom of Liège coffee, tried to understand what was making our beloved beans successful.\n",
    "In today's financial world, where global events and shifting public opinion play such a huge role, understanding what drives stock prices helps explain market trends. Market sentiments, particularly during pivotal economic and social times, play a very significant role in determining the performance of publicly traded companies.\n",
    "Our study looks at Starbucks Corporation, one of the leading companies in discretionary spending. We chose this company. Two extremely significant periods substantially influenced its stock behavior.\n",
    "COVID-19 pandemia (2019-2020) changed people's shopping habits and vitally affected Starbucks' finances because of store closures, reduced numbers of customers, and a shift towards take away options.\n",
    "In 2023, there have been calls to boycott Starbucks linked to the Israel-Palestine conflict, affecting its reputation and potentially affecting the stock value.\n",
    "The purpose will be served in such an event's ability to show, really, how market sentiment and economic factors come together to influence stock prices. Detailed research of financial data and public opinions is envisaged in this project. The object of this work is to identify profoundly meaningful trends and dynamics that shape the value of this outstandingly symbolic company in a continuously changing market."
   ]
  },
  {
   "cell_type": "markdown",
   "id": "cc49f01f-b6c3-47f3-8b1d-02eda1491d4f",
   "metadata": {},
   "source": [
    "# Data ingestion and preprocessing"
   ]
  },
  {
   "cell_type": "markdown",
   "id": "4c44b854-6265-42bb-9fe4-f135e5f4ae24",
   "metadata": {},
   "source": [
    "TASK 1"
   ]
  },
  {
   "cell_type": "code",
   "execution_count": 6,
   "id": "c2edc9c3-bdb5-45de-8cf0-05492cec0288",
   "metadata": {},
   "outputs": [
    {
     "name": "stdout",
     "output_type": "stream",
     "text": [
      "Requirement already satisfied: yfinance in /Users/macbook/anaconda3/lib/python3.12/site-packages (0.2.51)\n",
      "Requirement already satisfied: pandas>=1.3.0 in /Users/macbook/anaconda3/lib/python3.12/site-packages (from yfinance) (2.2.2)\n",
      "Requirement already satisfied: numpy>=1.16.5 in /Users/macbook/anaconda3/lib/python3.12/site-packages (from yfinance) (1.26.4)\n",
      "Requirement already satisfied: requests>=2.31 in /Users/macbook/anaconda3/lib/python3.12/site-packages (from yfinance) (2.32.2)\n",
      "Requirement already satisfied: multitasking>=0.0.7 in /Users/macbook/anaconda3/lib/python3.12/site-packages (from yfinance) (0.0.11)\n",
      "Requirement already satisfied: lxml>=4.9.1 in /Users/macbook/anaconda3/lib/python3.12/site-packages (from yfinance) (5.2.1)\n",
      "Requirement already satisfied: platformdirs>=2.0.0 in /Users/macbook/anaconda3/lib/python3.12/site-packages (from yfinance) (3.10.0)\n",
      "Requirement already satisfied: pytz>=2022.5 in /Users/macbook/anaconda3/lib/python3.12/site-packages (from yfinance) (2024.1)\n",
      "Requirement already satisfied: frozendict>=2.3.4 in /Users/macbook/anaconda3/lib/python3.12/site-packages (from yfinance) (2.4.2)\n",
      "Requirement already satisfied: peewee>=3.16.2 in /Users/macbook/anaconda3/lib/python3.12/site-packages (from yfinance) (3.17.8)\n",
      "Requirement already satisfied: beautifulsoup4>=4.11.1 in /Users/macbook/anaconda3/lib/python3.12/site-packages (from yfinance) (4.12.3)\n",
      "Requirement already satisfied: html5lib>=1.1 in /Users/macbook/anaconda3/lib/python3.12/site-packages (from yfinance) (1.1)\n",
      "Requirement already satisfied: soupsieve>1.2 in /Users/macbook/anaconda3/lib/python3.12/site-packages (from beautifulsoup4>=4.11.1->yfinance) (2.5)\n",
      "Requirement already satisfied: six>=1.9 in /Users/macbook/anaconda3/lib/python3.12/site-packages (from html5lib>=1.1->yfinance) (1.16.0)\n",
      "Requirement already satisfied: webencodings in /Users/macbook/anaconda3/lib/python3.12/site-packages (from html5lib>=1.1->yfinance) (0.5.1)\n",
      "Requirement already satisfied: python-dateutil>=2.8.2 in /Users/macbook/anaconda3/lib/python3.12/site-packages (from pandas>=1.3.0->yfinance) (2.9.0.post0)\n",
      "Requirement already satisfied: tzdata>=2022.7 in /Users/macbook/anaconda3/lib/python3.12/site-packages (from pandas>=1.3.0->yfinance) (2023.3)\n",
      "Requirement already satisfied: charset-normalizer<4,>=2 in /Users/macbook/anaconda3/lib/python3.12/site-packages (from requests>=2.31->yfinance) (2.0.4)\n",
      "Requirement already satisfied: idna<4,>=2.5 in /Users/macbook/anaconda3/lib/python3.12/site-packages (from requests>=2.31->yfinance) (3.7)\n",
      "Requirement already satisfied: urllib3<3,>=1.21.1 in /Users/macbook/anaconda3/lib/python3.12/site-packages (from requests>=2.31->yfinance) (2.2.2)\n",
      "Requirement already satisfied: certifi>=2017.4.17 in /Users/macbook/anaconda3/lib/python3.12/site-packages (from requests>=2.31->yfinance) (2024.8.30)\n",
      "Requirement already satisfied: pandas in /Users/macbook/anaconda3/lib/python3.12/site-packages (2.2.2)\n",
      "Requirement already satisfied: numpy>=1.26.0 in /Users/macbook/anaconda3/lib/python3.12/site-packages (from pandas) (1.26.4)\n",
      "Requirement already satisfied: python-dateutil>=2.8.2 in /Users/macbook/anaconda3/lib/python3.12/site-packages (from pandas) (2.9.0.post0)\n",
      "Requirement already satisfied: pytz>=2020.1 in /Users/macbook/anaconda3/lib/python3.12/site-packages (from pandas) (2024.1)\n",
      "Requirement already satisfied: tzdata>=2022.7 in /Users/macbook/anaconda3/lib/python3.12/site-packages (from pandas) (2023.3)\n",
      "Requirement already satisfied: six>=1.5 in /Users/macbook/anaconda3/lib/python3.12/site-packages (from python-dateutil>=2.8.2->pandas) (1.16.0)\n",
      "Requirement already satisfied: praw in /Users/macbook/anaconda3/lib/python3.12/site-packages (7.8.1)\n",
      "Requirement already satisfied: prawcore<3,>=2.4 in /Users/macbook/anaconda3/lib/python3.12/site-packages (from praw) (2.4.0)\n",
      "Requirement already satisfied: update_checker>=0.18 in /Users/macbook/anaconda3/lib/python3.12/site-packages (from praw) (0.18.0)\n",
      "Requirement already satisfied: websocket-client>=0.54.0 in /Users/macbook/anaconda3/lib/python3.12/site-packages (from praw) (1.8.0)\n",
      "Requirement already satisfied: requests<3.0,>=2.6.0 in /Users/macbook/anaconda3/lib/python3.12/site-packages (from prawcore<3,>=2.4->praw) (2.32.2)\n",
      "Requirement already satisfied: charset-normalizer<4,>=2 in /Users/macbook/anaconda3/lib/python3.12/site-packages (from requests<3.0,>=2.6.0->prawcore<3,>=2.4->praw) (2.0.4)\n",
      "Requirement already satisfied: idna<4,>=2.5 in /Users/macbook/anaconda3/lib/python3.12/site-packages (from requests<3.0,>=2.6.0->prawcore<3,>=2.4->praw) (3.7)\n",
      "Requirement already satisfied: urllib3<3,>=1.21.1 in /Users/macbook/anaconda3/lib/python3.12/site-packages (from requests<3.0,>=2.6.0->prawcore<3,>=2.4->praw) (2.2.2)\n",
      "Requirement already satisfied: certifi>=2017.4.17 in /Users/macbook/anaconda3/lib/python3.12/site-packages (from requests<3.0,>=2.6.0->prawcore<3,>=2.4->praw) (2024.8.30)\n"
     ]
    },
    {
     "name": "stderr",
     "output_type": "stream",
     "text": [
      "[*********************100%***********************]  1 of 1 completed\n",
      "\n",
      "1 Failed download:\n",
      "['SBUX']: JSONDecodeError('Expecting value: line 1 column 1 (char 0)')\n"
     ]
    },
    {
     "name": "stdout",
     "output_type": "stream",
     "text": [
      "Le prix de clôture par mois est :\n",
      "Empty DataFrame\n",
      "Columns: [SBUX]\n",
      "Index: []\n"
     ]
    },
    {
     "name": "stderr",
     "output_type": "stream",
     "text": [
      "/var/folders/rc/dl933q5j5zg5w7ctcfzz19k00000gn/T/ipykernel_20627/1010335261.py:22: FutureWarning: 'M' is deprecated and will be removed in a future version, please use 'ME' instead.\n",
      "  SBUX_close_data_per_month = SBUX_close_data.resample('M').mean()\n"
     ]
    }
   ],
   "source": [
    "!pip install yfinance\n",
    "!pip install pandas\n",
    "!pip install praw\n",
    "import yfinance as yf\n",
    "import pandas as pd\n",
    "\n",
    "# Download historical data for SBUX\n",
    "data = yf.download(\"SBUX\", start=\"2019-01-01\", end=\"2024-12-01\")\n",
    "\n",
    "SBUX_close_data = data['Close']\n",
    "\n",
    "SBUX_close_data.to_csv(\"SBUX_price_data_close.csv\")\n",
    "\n",
    "# Load adjusted data from CSV\n",
    "SBUX_close_data = pd.read_csv(\"SBUX_price_data_close.csv\", index_col=0)\n",
    "\n",
    "#Data in month\n",
    "# Convert index to DatetimeIndex\n",
    "SBUX_close_data.index = pd.to_datetime(SBUX_close_data.index)\n",
    "\n",
    "# Resample the data to obtain the monthly average\n",
    "SBUX_close_data_per_month = SBUX_close_data.resample('M').mean()\n",
    "\n",
    "# Save adjusted monthly data in CSV format\n",
    "SBUX_close_data_per_month.to_csv(\"SBUX_price_data_close_per_month.csv\")\n",
    "\n",
    "# Load adjusted data from CSV\n",
    "SBUX_close_data_per_month = pd.read_csv(\"SBUX_price_data_close_per_month.csv\", index_col=0)\n",
    "\n",
    "\n",
    "print(\"Le prix de clôture par mois est :\")\n",
    "print(SBUX_close_data_per_month.head())\n",
    "\n",
    "\n",
    "relative_path = 'SBUX_price_data_close_per_month.csv'\n",
    "\n",
    "# Save the data\n",
    "SBUX_close_data_per_month.to_csv(relative_path) \n"
   ]
  },
  {
   "cell_type": "code",
   "execution_count": 8,
   "id": "95bcfdff-cb2a-40b2-b79a-43b7368488b0",
   "metadata": {},
   "outputs": [
    {
     "name": "stderr",
     "output_type": "stream",
     "text": [
      "[*********************100%***********************]  1 of 1 completed\n",
      "\n",
      "1 Failed download:\n",
      "['SBUX']: JSONDecodeError('Expecting value: line 1 column 1 (char 0)')\n"
     ]
    },
    {
     "name": "stdout",
     "output_type": "stream",
     "text": [
      "The closing price per month is:\n",
      "<bound method NDFrame.head of Empty DataFrame\n",
      "Columns: [SBUX]\n",
      "Index: []>\n"
     ]
    },
    {
     "name": "stderr",
     "output_type": "stream",
     "text": [
      "/var/folders/rc/dl933q5j5zg5w7ctcfzz19k00000gn/T/ipykernel_20627/3970418126.py:22: FutureWarning: 'M' is deprecated and will be removed in a future version, please use 'ME' instead.\n",
      "  SBUX_close_data_per_month = SBUX_close_data.resample('M').mean()\n"
     ]
    }
   ],
   "source": [
    "# Data of closed price per month found by yfinance\n",
    "import yfinance as yf\n",
    "import pandas as pd\n",
    "import numpy as np\n",
    "import os\n",
    "\n",
    "# Download historical data for these companies\n",
    "data = yf.download(\"SBUX\", start=\"2019-01-01\", end=\"2024-12-01\")\n",
    "# we can access 'Adj Close' directly using:\n",
    "SBUX_close_data = data['Close']\n",
    "\n",
    "# Save the adjusted data in CSV format\n",
    "SBUX_close_data.to_csv(\"SBUX_price_data_close.csv\")\n",
    "\n",
    "# Load the adjusted data from CSV\n",
    "SBUX_close_data = pd.read_csv(\"SBUX_price_data_close.csv\", index_col=0)\n",
    "\n",
    "# Monthly data\n",
    "# Convert the index to DatetimeIndex\n",
    "SBUX_close_data.index = pd.to_datetime(SBUX_close_data.index) # This line converts the index to DatetimeIndex\n",
    "\n",
    "SBUX_close_data_per_month = SBUX_close_data.resample('M').mean()\n",
    "\n",
    "# Save the adjusted monthly data in CSV format\n",
    "SBUX_close_data_per_month.to_csv(\"SBUX_price_data_close_per_month.csv\")\n",
    "\n",
    "# Load the adjusted monthly data from CSV\n",
    "SBUX_close_data_per_month = pd.read_csv(\"SBUX_price_data_close_per_month.csv\", index_col=0)\n",
    "\n",
    "print(\"The closing price per month is:\")\n",
    "print(SBUX_close_data_per_month.head)\n",
    "\n",
    "\n",
    "# Save in a folder on your Desktop\n",
    "SBUX_close_data_per_month.to_csv(relative_path)\n",
    "relative_path = os.path.join(os.getcwd(), 'SBUX_price_data_close_per_month.csv')\n",
    "SBUX_close_data_per_month.to_csv(relative_path)\n"
   ]
  },
  {
   "cell_type": "code",
   "execution_count": 85,
   "id": "48079d0b-f6f6-4f02-aebe-8beff5b4cd55",
   "metadata": {},
   "outputs": [
    {
     "name": "stderr",
     "output_type": "stream",
     "text": [
      "/var/folders/kf/5n1r052170d3qbxzm03bx0m00000gn/T/ipykernel_45916/3431607487.py:23: DeprecationWarning: datetime.datetime.utcfromtimestamp() is deprecated and scheduled for removal in a future version. Use timezone-aware objects to represent datetimes in UTC: datetime.datetime.fromtimestamp(timestamp, datetime.UTC).\n",
      "  proper_date = datetime.utcfromtimestamp(post.created_utc)\n"
     ]
    },
    {
     "name": "stdout",
     "output_type": "stream",
     "text": [
      "Here are the aggregated data financial news :<bound method NDFrame.head of                                                 Title  \\\n",
      "0   Robotics, Cyber-Security, Beverage and Industr...   \n",
      "1   Chipotle Mexican Grill names Scott Boatwright ...   \n",
      "2   Dutch Bros (BROS) stock pops 28% after strong ...   \n",
      "3   Burger King parent Restaurant Brands falls sho...   \n",
      "4   \" Boeing workers vote to accept deal, end stri...   \n",
      "..                                                ...   \n",
      "94               Those of you who watch Squawk Box...   \n",
      "95     (12/21) Wednesday's Stock Market Movers & News   \n",
      "96  Why December CPI numbers are likely going to s...   \n",
      "97     (12/5) Monday's Pre-Market Stock Movers & News   \n",
      "98  Warren Buffett's Berkshire Hathaway has the ca...   \n",
      "\n",
      "                                                  URL                Date  \\\n",
      "0   https://www.reddit.com/r/stocks/comments/1gqql... 2024-11-13 23:17:06   \n",
      "1   https://www.reddit.com/r/stocks/comments/1gp1s... 2024-11-11 20:09:52   \n",
      "2   https://www.reddit.com/r/stocks/comments/1gmau... 2024-11-08 04:58:55   \n",
      "3   https://www.reddit.com/r/stocks/comments/1gk58... 2024-11-05 12:12:38   \n",
      "4   https://www.reddit.com/r/stocks/comments/1gk0w... 2024-11-05 06:56:30   \n",
      "..                                                ...                 ...   \n",
      "94  https://www.reddit.com/r/stocks/comments/zsmd7... 2022-12-22 13:42:57   \n",
      "95  https://www.reddit.com/r/stocks/comments/zrn2q... 2022-12-21 13:57:13   \n",
      "96  https://www.reddit.com/r/stocks/comments/zpnu3... 2022-12-19 10:17:36   \n",
      "97  https://www.reddit.com/r/stocks/comments/zd6ul... 2022-12-05 13:32:14   \n",
      "98  https://markets.businessinsider.com/news/stock... 2020-03-28 13:51:18   \n",
      "\n",
      "               Author  \n",
      "0               DoU92  \n",
      "1           Puginator  \n",
      "2         MasterDeath  \n",
      "3           Puginator  \n",
      "4          AIONisMINE  \n",
      "..                ...  \n",
      "94     FreddyLynn345_  \n",
      "95        bigbear0083  \n",
      "96   developmentfiend  \n",
      "97        bigbear0083  \n",
      "98  Jimbley_Neutralon  \n",
      "\n",
      "[99 rows x 4 columns]>\n"
     ]
    },
    {
     "name": "stderr",
     "output_type": "stream",
     "text": [
      "/var/folders/kf/5n1r052170d3qbxzm03bx0m00000gn/T/ipykernel_45916/3431607487.py:45: DeprecationWarning: datetime.datetime.utcfromtimestamp() is deprecated and scheduled for removal in a future version. Use timezone-aware objects to represent datetimes in UTC: datetime.datetime.fromtimestamp(timestamp, datetime.UTC).\n",
      "  proper_date = datetime.utcfromtimestamp(post.created_utc)\n"
     ]
    }
   ],
   "source": [
    "# Data from financial news API\n",
    "# Using the subreddit = stocks\n",
    "import praw\n",
    "import pandas as pd\n",
    "from datetime import datetime\n",
    "\n",
    "reddit = praw.Reddit(client_id=\"CInF2Yjb-C-NF1TNzxGedw\",\n",
    "                     client_secret=\"wEqVRGLydtV9qOG582kYcVqHialopA\",\n",
    "                     user_agent=\"Starbucks_Financial_News_Scraper/1.0 by u/Routine_Investment50\")\n",
    "\n",
    "# Choose the subreddit to explore\n",
    "subreddit = reddit.subreddit(\"stocks\")  # You can also try other subreddits (like finance)\n",
    "\n",
    "# Define the search period\n",
    "start_date = datetime(2019, 1, 1)\n",
    "end_date = datetime(2024, 12, 1)\n",
    "\n",
    "# List to store post information\n",
    "posts_data = []\n",
    "\n",
    "# Search posts on \"Starbucks\"\n",
    "for post in subreddit.search(\"Starbucks OR SBUX OR coffee\", sort=\"new\", time_filter=\"all\"):\n",
    "    proper_date = datetime.utcfromtimestamp(post.created_utc)\n",
    "\n",
    "    # Check if the post's date is within the desired period\n",
    "    if start_date <= proper_date <= end_date:\n",
    "        # Add post information to the list in dictionary form\n",
    "        post_info = {\n",
    "            \"Title\": post.title,\n",
    "            \"URL\": post.url,\n",
    "            \"Date\": proper_date,\n",
    "            \"Author\": str(post.author)}\n",
    "        posts_data.append(post_info)\n",
    "\n",
    "# Using the subreddit = finance because the last one gave us only the period starting from 2022 and not 2019\n",
    "\n",
    "# Choose the subreddit to explore\n",
    "subreddit = reddit.subreddit(\"Finance\")  \n",
    "\n",
    "# List to store post information\n",
    "posts_data_0 = []\n",
    "\n",
    "# Search posts on \"Starbucks\"\n",
    "for post in subreddit.search(\"Starbucks OR SBUX OR coffee\", sort=\"new\", time_filter=\"all\"):\n",
    "    proper_date = datetime.utcfromtimestamp(post.created_utc)\n",
    "\n",
    "    # Check if the post's date is within the desired period\n",
    "    if start_date <= proper_date <= end_date:\n",
    "        # Add post information to the list in dictionary form\n",
    "        post_info = {\n",
    "            \"Title\": post.title,\n",
    "            \"URL\": post.url,\n",
    "            \"Date\": proper_date,\n",
    "            \"Author\": str(post.author)}\n",
    "        posts_data_0.append(post_info)\n",
    "        \n",
    "# Create an aggregated DataFrame from the data\n",
    "\n",
    "financial_news = pd.DataFrame(posts_data)\n",
    "financial_news_0 = pd.DataFrame(posts_data_0)\n",
    "\n",
    "# Save to a CSV file\n",
    "financial_news.to_csv(\"starbucks_financial_news.csv\", index=False)\n",
    "financial_news.to_csv(\"starbucks_financial_news_0.csv\", index=False)\n",
    "\n",
    "# Concatenate the DataFrames\n",
    "agregate_data_news = pd.concat([financial_news, financial_news_0], ignore_index=True)\n",
    "\n",
    "# Display the first rows of the table\n",
    "print(\"Here are the aggregated data financial news :\" + str(agregate_data_news.head))\n"
   ]
  },
  {
   "cell_type": "code",
   "execution_count": 87,
   "id": "e9b850ba-7239-486e-9f08-8abf409fed91",
   "metadata": {},
   "outputs": [],
   "source": [
    "#To download the file\n",
    "\n",
    "\n",
    "file_path = relative_path = os.path.join(os.getcwd(), 'agregate_data_news.csv')\n",
    "\n",
    "\n",
    "agregate_data_news.to_csv(file_path, index=False)\n",
    "\n"
   ]
  },
  {
   "cell_type": "markdown",
   "id": "68e32813-644a-4247-932a-2af0af60a4a5",
   "metadata": {},
   "source": [
    "# Sentiment analysis and predictive modeling"
   ]
  },
  {
   "cell_type": "markdown",
   "id": "82bd5261-a104-4fbb-b01e-9d61e2cbe3ca",
   "metadata": {},
   "source": [
    "TASK 1&2 : social media sentiment analysis and Implement NLP to analyze and quantify market sentiment via textblob"
   ]
  },
  {
   "cell_type": "markdown",
   "id": "ddf6aed9-d960-4227-b481-a9589f6a1b9d",
   "metadata": {},
   "source": [
    "A. Sentiment analysis "
   ]
  },
  {
   "cell_type": "code",
   "execution_count": 89,
   "id": "3128e2c0-c9bb-4b85-b5c4-acc5dc911b0f",
   "metadata": {},
   "outputs": [
    {
     "name": "stdout",
     "output_type": "stream",
     "text": [
      "Requirement already satisfied: asyncpraw in /opt/anaconda3/lib/python3.12/site-packages (7.8.1)\n",
      "Collecting textblob\n",
      "  Downloading textblob-0.18.0.post0-py3-none-any.whl.metadata (4.5 kB)\n",
      "Requirement already satisfied: pandas in /opt/anaconda3/lib/python3.12/site-packages (2.2.2)\n",
      "Requirement already satisfied: aiofiles in /opt/anaconda3/lib/python3.12/site-packages (from asyncpraw) (24.1.0)\n",
      "Requirement already satisfied: aiohttp<4 in /opt/anaconda3/lib/python3.12/site-packages (from asyncpraw) (3.9.5)\n",
      "Requirement already satisfied: aiosqlite<=0.17.0 in /opt/anaconda3/lib/python3.12/site-packages (from asyncpraw) (0.17.0)\n",
      "Requirement already satisfied: asyncprawcore<3,>=2.4 in /opt/anaconda3/lib/python3.12/site-packages (from asyncpraw) (2.4.0)\n",
      "Requirement already satisfied: update_checker>=0.18 in /opt/anaconda3/lib/python3.12/site-packages (from asyncpraw) (0.18.0)\n",
      "Requirement already satisfied: nltk>=3.8 in /opt/anaconda3/lib/python3.12/site-packages (from textblob) (3.8.1)\n",
      "Requirement already satisfied: numpy>=1.26.0 in /opt/anaconda3/lib/python3.12/site-packages (from pandas) (1.26.4)\n",
      "Requirement already satisfied: python-dateutil>=2.8.2 in /opt/anaconda3/lib/python3.12/site-packages (from pandas) (2.9.0.post0)\n",
      "Requirement already satisfied: pytz>=2020.1 in /opt/anaconda3/lib/python3.12/site-packages (from pandas) (2024.1)\n",
      "Requirement already satisfied: tzdata>=2022.7 in /opt/anaconda3/lib/python3.12/site-packages (from pandas) (2023.3)\n",
      "Requirement already satisfied: aiosignal>=1.1.2 in /opt/anaconda3/lib/python3.12/site-packages (from aiohttp<4->asyncpraw) (1.2.0)\n",
      "Requirement already satisfied: attrs>=17.3.0 in /opt/anaconda3/lib/python3.12/site-packages (from aiohttp<4->asyncpraw) (23.1.0)\n",
      "Requirement already satisfied: frozenlist>=1.1.1 in /opt/anaconda3/lib/python3.12/site-packages (from aiohttp<4->asyncpraw) (1.4.0)\n",
      "Requirement already satisfied: multidict<7.0,>=4.5 in /opt/anaconda3/lib/python3.12/site-packages (from aiohttp<4->asyncpraw) (6.0.4)\n",
      "Requirement already satisfied: yarl<2.0,>=1.0 in /opt/anaconda3/lib/python3.12/site-packages (from aiohttp<4->asyncpraw) (1.9.3)\n",
      "Requirement already satisfied: typing_extensions>=3.7.2 in /opt/anaconda3/lib/python3.12/site-packages (from aiosqlite<=0.17.0->asyncpraw) (4.12.2)\n",
      "Requirement already satisfied: click in /opt/anaconda3/lib/python3.12/site-packages (from nltk>=3.8->textblob) (8.1.7)\n",
      "Requirement already satisfied: joblib in /opt/anaconda3/lib/python3.12/site-packages (from nltk>=3.8->textblob) (1.4.2)\n",
      "Requirement already satisfied: regex>=2021.8.3 in /opt/anaconda3/lib/python3.12/site-packages (from nltk>=3.8->textblob) (2023.10.3)\n",
      "Requirement already satisfied: tqdm in /opt/anaconda3/lib/python3.12/site-packages (from nltk>=3.8->textblob) (4.66.4)\n",
      "Requirement already satisfied: six>=1.5 in /opt/anaconda3/lib/python3.12/site-packages (from python-dateutil>=2.8.2->pandas) (1.16.0)\n",
      "Requirement already satisfied: requests>=2.3.0 in /opt/anaconda3/lib/python3.12/site-packages (from update_checker>=0.18->asyncpraw) (2.32.2)\n",
      "Requirement already satisfied: charset-normalizer<4,>=2 in /opt/anaconda3/lib/python3.12/site-packages (from requests>=2.3.0->update_checker>=0.18->asyncpraw) (2.0.4)\n",
      "Requirement already satisfied: idna<4,>=2.5 in /opt/anaconda3/lib/python3.12/site-packages (from requests>=2.3.0->update_checker>=0.18->asyncpraw) (3.7)\n",
      "Requirement already satisfied: urllib3<3,>=1.21.1 in /opt/anaconda3/lib/python3.12/site-packages (from requests>=2.3.0->update_checker>=0.18->asyncpraw) (2.2.2)\n",
      "Requirement already satisfied: certifi>=2017.4.17 in /opt/anaconda3/lib/python3.12/site-packages (from requests>=2.3.0->update_checker>=0.18->asyncpraw) (2024.12.14)\n",
      "Downloading textblob-0.18.0.post0-py3-none-any.whl (626 kB)\n",
      "\u001b[2K   \u001b[90m━━━━━━━━━━━━━━━━━━━━━━━━━━━━━━━━━━━━━━━━\u001b[0m \u001b[32m626.3/626.3 kB\u001b[0m \u001b[31m9.4 MB/s\u001b[0m eta \u001b[36m0:00:00\u001b[0ma \u001b[36m0:00:01\u001b[0m\n",
      "\u001b[?25hInstalling collected packages: textblob\n",
      "Successfully installed textblob-0.18.0.post0\n",
      "Fetching Reddit posts between 2019-01-01 and 2024-12-01...\n",
      "Found 249 posts\n",
      "Analyzing sentiment...\n",
      "\n",
      "DataFrame Preview:\n",
      "            timestamp                                               text  \\\n",
      "0 2025-01-02 23:55:38  I missed daily play yesterday, but got 100 sta...   \n",
      "1 2025-01-02 23:46:29  Management let me put a quote on the board for...   \n",
      "2 2025-01-02 23:10:11  A dangerous game  A dangerous game to be playing    \n",
      "3 2025-01-02 22:59:56  Just started working at SB, done 2 shifts so f...   \n",
      "4 2025-01-02 22:59:53  Store outings  I am a 5 year partner and have ...   \n",
      "\n",
      "   subreddit    keyword sentiment  \n",
      "0  starbucks  starbucks  Negative  \n",
      "1  starbucks  starbucks  Positive  \n",
      "2  starbucks  starbucks  Negative  \n",
      "3  starbucks  starbucks  Positive  \n",
      "4  starbucks  starbucks  Positive  \n",
      "Saving data to CSV...\n",
      "Data saved to reddit_sentiment_analysis.csv\n"
     ]
    }
   ],
   "source": [
    "# Sentiment qualified with the posts\n",
    "\n",
    "!pip install asyncpraw textblob pandas\n",
    "import asyncio\n",
    "import asyncpraw\n",
    "from textblob import TextBlob\n",
    "import pandas as pd\n",
    "from datetime import datetime\n",
    "import time\n",
    "\n",
    "async def init_reddit():\n",
    "    return asyncpraw.Reddit(\n",
    "        client_id=\"mnNevXLCO-BSJFkHNjHRGw\",\n",
    "        client_secret=\"FVN3TJIsRW1oLbHfOU4y3VZ7dii7sw\",\n",
    "        user_agent=\"SentimentAnalyzer/1.0 by u/Hopeful-Candy4856\"\n",
    "    )\n",
    "\n",
    "\n",
    "async def fetch_reddit_posts(reddit, keywords, subreddits, start_date, end_date):\n",
    "    posts_data = []\n",
    "    try:\n",
    "        start_timestamp = int(datetime.strptime(start_date, \"%Y-%m-%d\").timestamp())\n",
    "        end_timestamp = int(datetime.strptime(end_date, \"%Y-%m-%d\").timestamp())\n",
    "\n",
    "        for subreddit_name in subreddits:\n",
    "            try:\n",
    "                subreddit = await reddit.subreddit(subreddit_name)\n",
    "                for keyword in keywords:\n",
    "                    try:\n",
    "                        # use `after` and `before` to specify the dates range\n",
    "                        async for submission in subreddit.search(\n",
    "                            keyword, \n",
    "                            sort=\"new\", \n",
    "                            limit=None,  # to extract datas\n",
    "                            params={\"after\": start_timestamp, \"before\": end_timestamp}\n",
    "                        ):\n",
    "                            posts_data.append({\n",
    "                                \"timestamp\": submission.created_utc,\n",
    "                                \"text\": submission.title + \" \" + submission.selftext,\n",
    "                                \"subreddit\": subreddit_name,\n",
    "                                \"keyword\": keyword\n",
    "                            })\n",
    "                            await asyncio.sleep(1)\n",
    "                    except Exception as e:\n",
    "                        print(f\"Error searching for keyword '{keyword}': {e}\")\n",
    "            except Exception as e:\n",
    "                print(f\"Error accessing subreddit '{subreddit_name}': {e}\")\n",
    "    except Exception as e:\n",
    "        print(f\"Error in fetch_reddit_posts: {e}\")\n",
    "    return posts_data\n",
    "def analyze_sentiment(text):\n",
    "    try:\n",
    "        score = TextBlob(text).sentiment.polarity\n",
    "        if score > 0:\n",
    "            return \"Positive\"\n",
    "        elif score < 0:\n",
    "            return \"Negative\"\n",
    "        else:\n",
    "            return \"Neutral\"\n",
    "    except Exception as e:\n",
    "        print(f\"Error analyzing sentiment: {e}\")\n",
    "        return \"Neutral\"\n",
    "\n",
    "def save_to_csv(data, filename):\n",
    "    df = pd.DataFrame(data)\n",
    "    df[\"timestamp\"] = pd.to_datetime(df[\"timestamp\"], unit=\"s\")\n",
    "    df.to_csv(filename, index=False)\n",
    "    print(f\"Data saved to {filename}\")\n",
    "\n",
    "async def collect_and_analyze_data():\n",
    "    try:\n",
    "        reddit = await init_reddit()\n",
    "\n",
    "        keywords = [\"starbucks\"]\n",
    "        subreddits = [\"starbucks\"]\n",
    "        start_date = \"2019-01-01\"\n",
    "        end_date = \"2024-12-01\"\n",
    "\n",
    "        print(f\"Fetching Reddit posts between {start_date} and {end_date}...\")\n",
    "        reddit_posts = await fetch_reddit_posts(reddit, keywords, subreddits, start_date, end_date)\n",
    "\n",
    "        if not reddit_posts:\n",
    "            print(\"No posts were fetched. Check your search criteria and API credentials.\")\n",
    "            return\n",
    "\n",
    "        print(f\"Found {len(reddit_posts)} posts\")\n",
    "\n",
    "        print(\"Analyzing sentiment...\")\n",
    "        for post in reddit_posts:\n",
    "            post[\"sentiment\"] = analyze_sentiment(post[\"text\"])\n",
    "\n",
    "        # Create a DataFrame and display preview\n",
    "        df = pd.DataFrame(reddit_posts)\n",
    "        df[\"timestamp\"] = pd.to_datetime(df[\"timestamp\"], unit=\"s\")\n",
    "        print(\"\\nDataFrame Preview:\")\n",
    "        print(df.head())\n",
    "\n",
    "        print(\"Saving data to CSV...\")\n",
    "        save_to_csv(reddit_posts, \"reddit_sentiment_analysis.csv\")\n",
    "\n",
    "    except Exception as e:\n",
    "        print(f\"An error occurred: {e}\")\n",
    "\n",
    "if __name__ == \"__main__\":\n",
    "    if 'get_ipython' in globals():  \n",
    "        await collect_and_analyze_data()\n",
    "    else:\n",
    "        asyncio.run(collect_and_analyze_data())"
   ]
  },
  {
   "cell_type": "code",
   "execution_count": 112,
   "id": "1cb26f30-a4e5-4b1f-a8a8-1400f2c99614",
   "metadata": {},
   "outputs": [
    {
     "name": "stdout",
     "output_type": "stream",
     "text": [
      "Requirement already satisfied: asyncpraw in /opt/anaconda3/lib/python3.12/site-packages (7.8.1)\n",
      "Requirement already satisfied: aiofiles in /opt/anaconda3/lib/python3.12/site-packages (from asyncpraw) (24.1.0)\n",
      "Requirement already satisfied: aiohttp<4 in /opt/anaconda3/lib/python3.12/site-packages (from asyncpraw) (3.9.5)\n",
      "Requirement already satisfied: aiosqlite<=0.17.0 in /opt/anaconda3/lib/python3.12/site-packages (from asyncpraw) (0.17.0)\n",
      "Requirement already satisfied: asyncprawcore<3,>=2.4 in /opt/anaconda3/lib/python3.12/site-packages (from asyncpraw) (2.4.0)\n",
      "Requirement already satisfied: update_checker>=0.18 in /opt/anaconda3/lib/python3.12/site-packages (from asyncpraw) (0.18.0)\n",
      "Requirement already satisfied: aiosignal>=1.1.2 in /opt/anaconda3/lib/python3.12/site-packages (from aiohttp<4->asyncpraw) (1.2.0)\n",
      "Requirement already satisfied: attrs>=17.3.0 in /opt/anaconda3/lib/python3.12/site-packages (from aiohttp<4->asyncpraw) (23.1.0)\n",
      "Requirement already satisfied: frozenlist>=1.1.1 in /opt/anaconda3/lib/python3.12/site-packages (from aiohttp<4->asyncpraw) (1.4.0)\n",
      "Requirement already satisfied: multidict<7.0,>=4.5 in /opt/anaconda3/lib/python3.12/site-packages (from aiohttp<4->asyncpraw) (6.0.4)\n",
      "Requirement already satisfied: yarl<2.0,>=1.0 in /opt/anaconda3/lib/python3.12/site-packages (from aiohttp<4->asyncpraw) (1.9.3)\n",
      "Requirement already satisfied: typing_extensions>=3.7.2 in /opt/anaconda3/lib/python3.12/site-packages (from aiosqlite<=0.17.0->asyncpraw) (4.12.2)\n",
      "Requirement already satisfied: requests>=2.3.0 in /opt/anaconda3/lib/python3.12/site-packages (from update_checker>=0.18->asyncpraw) (2.32.2)\n",
      "Requirement already satisfied: charset-normalizer<4,>=2 in /opt/anaconda3/lib/python3.12/site-packages (from requests>=2.3.0->update_checker>=0.18->asyncpraw) (2.0.4)\n",
      "Requirement already satisfied: idna<4,>=2.5 in /opt/anaconda3/lib/python3.12/site-packages (from requests>=2.3.0->update_checker>=0.18->asyncpraw) (3.7)\n",
      "Requirement already satisfied: urllib3<3,>=1.21.1 in /opt/anaconda3/lib/python3.12/site-packages (from requests>=2.3.0->update_checker>=0.18->asyncpraw) (2.2.2)\n",
      "Requirement already satisfied: certifi>=2017.4.17 in /opt/anaconda3/lib/python3.12/site-packages (from requests>=2.3.0->update_checker>=0.18->asyncpraw) (2024.12.14)\n",
      "Found 86 posts\n",
      "Analyzing sentiments...\n",
      "\n",
      "posts:\n",
      "                 date  sentiment_score  subjectivity_score\n",
      "0 2024-10-21 17:00:06               -1               0.801\n",
      "1 2024-08-19 22:18:58                1               0.372\n",
      "2 2024-10-30 21:21:20                0               0.000\n",
      "3 2024-10-18 13:43:47                1               0.522\n",
      "4 2024-08-22 02:19:56               -1               0.479\n",
      "Results saved to reddit_analysis.csv\n"
     ]
    }
   ],
   "source": [
    "# Sentiment quantified\n",
    "!pip install asyncpraw\n",
    "import asyncio\n",
    "import asyncpraw\n",
    "from textblob import TextBlob\n",
    "import pandas as pd\n",
    "from datetime import datetime\n",
    "\n",
    "# Reddit id\n",
    "async def setup_reddit():\n",
    "    reddit = asyncpraw.Reddit(\n",
    "        client_id=\"mnNevXLCO-BSJFkHNjHRGw\",\n",
    "        client_secret=\"FVN3TJIsRW1oLbHfOU4y3VZ7dii7sw\",\n",
    "        user_agent=\"SentimentAnalyzer/1.0 by u/Hopeful-Candy4856\"\n",
    "    )\n",
    "    return reddit\n",
    "\n",
    "# Posts from Reddit\n",
    "async def get_reddit_posts(reddit, keywords, subreddits, start_date, end_date):\n",
    "    posts = []\n",
    "\n",
    "    # Convert dates to timestamp\n",
    "    start_time = int(datetime.strptime(start_date, \"%Y-%m-%d\").timestamp())\n",
    "    end_time = int(datetime.strptime(end_date, \"%Y-%m-%d\").timestamp())\n",
    "\n",
    "    # Loop through subreddit and keyword\n",
    "    for subreddit_name in subreddits:\n",
    "        subreddit = await reddit.subreddit(subreddit_name)\n",
    "\n",
    "        for keyword in keywords:\n",
    "            # Search for posts\n",
    "            async for post in subreddit.search(keyword):\n",
    "                # Check if post is within date range\n",
    "                if start_time <= post.created_utc <= end_time:\n",
    "                    # Store post information\n",
    "                    post_info = {\n",
    "                        \"date\": post.created_utc,\n",
    "                        \"title\": post.title,\n",
    "                        \"text\": post.selftext,\n",
    "                        \"subreddit\": subreddit_name,\n",
    "                        \"keyword\": keyword\n",
    "                    }\n",
    "                    posts.append(post_info)\n",
    "\n",
    "    return posts\n",
    "\n",
    "# Analyze sentiment of text\n",
    "def check_sentiment(text):\n",
    "    full_text = text[\"title\"] + \" \" + text[\"text\"]\n",
    "\n",
    "    # sentiment score\n",
    "    analysis = TextBlob(full_text)\n",
    "    polarity = analysis.sentiment.polarity\n",
    "\n",
    "    # Convert to -1, 0, 1\n",
    "    if polarity > 0:\n",
    "        sentiment = 1\n",
    "    elif polarity < 0:\n",
    "        sentiment = -1\n",
    "    else:\n",
    "        sentiment = 0\n",
    "\n",
    "    return {\n",
    "        'sentiment': sentiment,\n",
    "        'subjectivity': round(analysis.sentiment.subjectivity, 3)\n",
    "    }\n",
    "\n",
    "# Main function\n",
    "async def main():\n",
    "    # search parameters\n",
    "    keywords = [\"starbucks\"]\n",
    "    subreddits = [\"starbucks\"]\n",
    "    start_date = \"2019-01-01\"\n",
    "    end_date = \"2024-12-01\"\n",
    "\n",
    "    # Connect to Reddit\n",
    "    reddit = await setup_reddit()\n",
    "\n",
    "    # Get posts\n",
    "    posts = await get_reddit_posts(reddit, keywords, subreddits, start_date, end_date)\n",
    "\n",
    "    if not posts:\n",
    "        print(\"No posts found\")\n",
    "        return\n",
    "\n",
    "    print(f\"Found {len(posts)} posts\")\n",
    "\n",
    "    # Analyze sentiments\n",
    "    print(\"Analyzing sentiments...\")\n",
    "    for post in posts:\n",
    "        scores = check_sentiment(post)\n",
    "        post['sentiment_score'] = scores['sentiment']\n",
    "        post['subjectivity_score'] = scores['subjectivity']\n",
    "\n",
    "    # Create DataFrame and save to CSV\n",
    "    df = pd.DataFrame(posts)\n",
    "    df['date'] = pd.to_datetime(df['date'], unit='s')\n",
    "\n",
    "    # results\n",
    "    print(\"\\nposts:\")\n",
    "    print(df[['date', 'sentiment_score', 'subjectivity_score']].head())\n",
    "\n",
    "    df.to_csv(\"reddit_analysis.csv\", index=False)\n",
    "    print(\"Results saved to reddit_analysis.csv\")\n",
    "# Run the program\n",
    "if __name__ == \"__main__\":\n",
    "    if 'get_ipython' in globals():\n",
    "        await main()\n",
    "\n",
    "df = pd.read_csv(\"reddit_analysis.csv\")"
   ]
  },
  {
   "cell_type": "markdown",
   "id": "a03da434-cb28-4deb-b5d8-f53efd19f526",
   "metadata": {},
   "source": [
    "TASK 3 : Predictive Modeling"
   ]
  },
  {
   "cell_type": "markdown",
   "id": "15322787-d8c7-47f0-ab6a-70f4fc09487f",
   "metadata": {},
   "source": [
    "Economic indicators : Fed fund rates and CPI = Consumer price index"
   ]
  },
  {
   "cell_type": "code",
   "execution_count": 110,
   "id": "0c658ce1-3c2f-43aa-abd7-61e7fde5b87c",
   "metadata": {},
   "outputs": [
    {
     "name": "stdout",
     "output_type": "stream",
     "text": [
      "Requirement already satisfied: fredapi in /opt/anaconda3/lib/python3.12/site-packages (0.5.2)\n",
      "Requirement already satisfied: pandas in /opt/anaconda3/lib/python3.12/site-packages (from fredapi) (2.2.2)\n",
      "Requirement already satisfied: numpy>=1.26.0 in /opt/anaconda3/lib/python3.12/site-packages (from pandas->fredapi) (1.26.4)\n",
      "Requirement already satisfied: python-dateutil>=2.8.2 in /opt/anaconda3/lib/python3.12/site-packages (from pandas->fredapi) (2.9.0.post0)\n",
      "Requirement already satisfied: pytz>=2020.1 in /opt/anaconda3/lib/python3.12/site-packages (from pandas->fredapi) (2024.1)\n",
      "Requirement already satisfied: tzdata>=2022.7 in /opt/anaconda3/lib/python3.12/site-packages (from pandas->fredapi) (2023.3)\n",
      "Requirement already satisfied: six>=1.5 in /opt/anaconda3/lib/python3.12/site-packages (from python-dateutil>=2.8.2->pandas->fredapi) (1.16.0)\n",
      "The fed fund rate per month is :            FEDFUNDS\n",
      "2019-01-31      2.40\n",
      "2019-02-28      2.40\n",
      "2019-03-31      2.41\n",
      "2019-04-30      2.42\n",
      "2019-05-31      2.39\n",
      "The CPI per month is :            CPIAUCSL\n",
      "2019-01-31   252.561\n",
      "2019-02-28   253.319\n",
      "2019-03-31   254.277\n",
      "2019-04-30   255.233\n",
      "2019-05-31   255.296\n",
      "List of the different features's values are :\n",
      "[ 57.58712296  62.39415139  63.73977843  67.56358228  69.1888882\n",
      "  73.96442719  81.11847236  86.23412982  82.44650688  76.55912615\n",
      "  75.31091957  78.86604781  81.34457034  78.22207842  61.47112742\n",
      "  66.07812573  69.17671242  70.22615641  68.49986059  72.44498189\n",
      "  78.6451238   81.46319684  87.48806076  94.85483343  94.80022792\n",
      "  96.29346024  99.70469068 106.36382294 104.59002075 104.09060218\n",
      " 111.1812973  108.82815448 107.55691347 104.90931157 105.23294467\n",
      " 106.5404781   95.91282539  88.74222404  82.59339507  75.90624428\n",
      "  70.22700319  72.09137689  76.67493629  82.14250847  83.66844541\n",
      "  83.26963043  91.30027989  96.73357355 101.93954544 102.15912427\n",
      "  97.20811761 103.87978765 101.35709867  96.42833528  97.5741333\n",
      "  96.35335773  92.43654137  90.46675942 100.58648609  94.81891823\n",
      "  91.25305357  93.07554436  90.25807343  86.29074201  75.63968\n",
      "  79.83851543  74.77533722  87.3197663   95.47550011  96.38521642\n",
      "  99.26800041]\n",
      "[252.561 253.319 254.277 255.233 255.296 255.213 255.802 256.036 256.43\n",
      " 257.155 257.879 258.63  258.906 259.246 258.15  256.126 255.848 257.004\n",
      " 258.408 259.366 259.951 260.249 260.895 262.005 262.518 263.583 264.91\n",
      " 266.752 268.452 270.664 271.994 272.789 273.887 276.434 278.799 280.808\n",
      " 282.39  284.535 287.553 288.764 291.359 294.996 294.977 295.209 296.341\n",
      " 297.863 298.648 298.812 300.356 301.509 301.744 303.032 303.365 304.003\n",
      " 304.628 306.187 307.288 307.531 308.024 308.742 309.685 311.054 312.23\n",
      " 313.207 313.225 313.049 313.534 314.121 314.686 315.454 316.441]\n",
      "[2.4  2.4  2.41 2.42 2.39 2.38 2.4  2.13 2.04 1.83 1.55 1.55 1.55 1.58\n",
      " 0.65 0.05 0.05 0.08 0.09 0.1  0.09 0.09 0.09 0.09 0.09 0.08 0.07 0.07\n",
      " 0.06 0.08 0.1  0.09 0.08 0.08 0.08 0.08 0.08 0.08 0.2  0.33 0.77 1.21\n",
      " 1.68 2.33 2.56 3.08 3.78 4.1  4.33 4.57 4.65 4.83 5.06 5.08 5.12 5.33\n",
      " 5.33 5.33 5.33 5.33 5.33 5.33 5.33 5.33 5.33 5.33 5.33 5.33 5.13 4.83\n",
      " 4.64]\n",
      "[-1, 1, 0, 1, -1, -1, 1, 1, 0, 1, 0, 0, 1, 1, 0, 1, 0, -1, 0, 0, -1, 1, 1, -1, -1, 1, 1, 0, 1, 1, 0, 1, 1, 1, 1, 0, -1, 1, 1, 1, 1, -1, -1, 1, -1, 1, 1, 1, -1, -1, 1, 1, 1, 1, 1, 1, 1, 1, 1, 1, 1, 1, 1, -1, 1, 0, -1, 1, 1, -1, 1, 1, 0, 1, -1, 0, 1, 0, 1, 1, 1, 0, 1, -1, 1, 1]\n",
      "86\n"
     ]
    },
    {
     "name": "stderr",
     "output_type": "stream",
     "text": [
      "/var/folders/kf/5n1r052170d3qbxzm03bx0m00000gn/T/ipykernel_45916/2158877574.py:12: FutureWarning: 'M' is deprecated and will be removed in a future version, please use 'ME' instead.\n",
      "  fed_fund_rate_per_month = fed_fund_rate.resample('M').mean()\n",
      "/var/folders/kf/5n1r052170d3qbxzm03bx0m00000gn/T/ipykernel_45916/2158877574.py:13: FutureWarning: 'M' is deprecated and will be removed in a future version, please use 'ME' instead.\n",
      "  CPI_per_month=CPI.resample('M').mean()\n"
     ]
    }
   ],
   "source": [
    "!pip install fredapi\n",
    "from fredapi import Fred\n",
    "fred = Fred(\"6aaa9a090118daedcc01d2c519309f01\") # My API\n",
    "# Use get_series instead of get\n",
    "fed_fund_rate = fred.get_series(\"FEDFUNDS\", start='2019-01-01', end='2024-12-01')\n",
    "CPI = fred.get_series('CPIAUCSL', start='2019-01-01', end='2024-12-01')\n",
    "\n",
    "#datas per month\n",
    "fed_fund_rate.index = pd.to_datetime(fed_fund_rate.index)\n",
    "CPI.index=pd.to_datetime(CPI.index)\n",
    "\n",
    "fed_fund_rate_per_month = fed_fund_rate.resample('M').mean()\n",
    "CPI_per_month=CPI.resample('M').mean()\n",
    "#in dataframe type\n",
    "fed_fund_rate_per_month = pd.DataFrame(fed_fund_rate_per_month, columns = ['FEDFUNDS'])\n",
    "CPI_per_month = pd.DataFrame(CPI_per_month, columns = ['CPIAUCSL'])\n",
    "\n",
    "# We Filter the data to include only the desired period\n",
    "start_date = pd.to_datetime('2019-01-01')\n",
    "end_date = pd.to_datetime('2024-12-01')\n",
    "fed_fund_rate_per_month = fed_fund_rate_per_month[(fed_fund_rate_per_month.index >= start_date) & (fed_fund_rate_per_month.index <= end_date)]\n",
    "CPI_per_month = CPI_per_month[(CPI_per_month.index >= start_date) & (CPI_per_month.index <= end_date)]\n",
    "\n",
    "print(\"The fed fund rate per month is :\" + str(fed_fund_rate_per_month.head()))\n",
    "print(\"The CPI per month is :\" + str(CPI_per_month.head()))\n",
    "\n",
    "\n",
    "   ## The list of our features for the regression\n",
    "\n",
    "#Liste des prix \n",
    "List_prix=SBUX_close_data_per_month.values.tolist()\n",
    "List_prix_agregate=np.concatenate( List_prix) # Use np.concatenate\n",
    "\n",
    "#list sentiment \n",
    "df = pd.read_csv(\"reddit_analysis.csv\")\n",
    "# Now, we extract the 'sentiment_score' column as a list\n",
    "sentiment_scores = df['sentiment_score'].values.tolist()\n",
    "\n",
    "\n",
    "#list of economic indicators\n",
    "list_fed=fed_fund_rate_per_month.values.tolist()\n",
    "list_fed_agregate=np.concatenate( list_fed) \n",
    "\n",
    "\n",
    "list_CPI=CPI_per_month.values.tolist()\n",
    "list_CPI_agregate=np.concatenate( list_CPI) \n",
    "print(\"List of the different features's values are :\")\n",
    "print(List_prix_agregate)\n",
    "print(list_CPI_agregate)\n",
    "print(list_fed_agregate)\n",
    "print(sentiment_scores)\n",
    "print(len(sentiment_scores))"
   ]
  },
  {
   "cell_type": "code",
   "execution_count": 95,
   "id": "3f8ad15b-0c66-48f0-826a-59a4ba95a878",
   "metadata": {},
   "outputs": [
    {
     "name": "stdout",
     "output_type": "stream",
     "text": [
      "            sentiment_score\n",
      "date                       \n",
      "2020-04-30              1.0\n",
      "2020-05-31              NaN\n",
      "2020-06-30              NaN\n",
      "2020-07-31              NaN\n",
      "2020-08-31              NaN\n"
     ]
    },
    {
     "name": "stderr",
     "output_type": "stream",
     "text": [
      "/var/folders/kf/5n1r052170d3qbxzm03bx0m00000gn/T/ipykernel_45916/2291113614.py:6: SettingWithCopyWarning: \n",
      "A value is trying to be set on a copy of a slice from a DataFrame.\n",
      "Try using .loc[row_indexer,col_indexer] = value instead\n",
      "\n",
      "See the caveats in the documentation: https://pandas.pydata.org/pandas-docs/stable/user_guide/indexing.html#returning-a-view-versus-a-copy\n",
      "  sentiment_scores['date'] = pd.to_datetime(sentiment_scores['date'])\n",
      "/var/folders/kf/5n1r052170d3qbxzm03bx0m00000gn/T/ipykernel_45916/2291113614.py:12: FutureWarning: 'M' is deprecated and will be removed in a future version, please use 'ME' instead.\n",
      "  sentiment_scores_per_month = sentiment_scores.resample('M').mean()\n"
     ]
    }
   ],
   "source": [
    "\n",
    "# We can group sentiment by month and we compute the average values\n",
    "# Now, we extract the sentiment scores and associate the index (the dates)\n",
    "\n",
    "sentiment_scores = df[['date', 'sentiment_score']]\n",
    "\n",
    "sentiment_scores['date'] = pd.to_datetime(sentiment_scores['date'])\n",
    "\n",
    "# Index od DataFrame is defined on column 'date'\n",
    "sentiment_scores.set_index('date', inplace=True)\n",
    "\n",
    "# Resample monthly to average sentiment scores\n",
    "sentiment_scores_per_month = sentiment_scores.resample('M').mean()\n",
    "\n",
    "print(sentiment_scores_per_month.head())"
   ]
  },
  {
   "cell_type": "code",
   "execution_count": 102,
   "id": "4a6db5b0-cad9-48ac-aca8-0604bd1a4305",
   "metadata": {},
   "outputs": [
    {
     "name": "stdout",
     "output_type": "stream",
     "text": [
      "            sentiment_score\n",
      "date                       \n",
      "2020-04-30         1.000000\n",
      "2020-05-31         0.390169\n",
      "2020-06-30         0.390169\n",
      "2020-07-31         0.390169\n",
      "2020-08-31         0.390169\n"
     ]
    }
   ],
   "source": [
    "  #Since we don't have all the values for our sentiments, a well-known method in econometric, named mean imputation, is to replace the NAN values by the mean of available values \n",
    "# Calculate the mean of available sentiment scores\n",
    "mean_sentiment_score_per_month = sentiment_scores_per_month['sentiment_score'].mean()\n",
    "\n",
    "# Replace NaN values in the 'sentiment_score' column with the function fillna()\n",
    "sentiment_scores_per_month['sentiment_score'] = sentiment_scores_per_month['sentiment_score'].fillna(mean_sentiment_score_per_month)\n",
    "\n",
    "# Print the updated DataFrame (optional)\n",
    "print(sentiment_scores_per_month.head())"
   ]
  },
  {
   "cell_type": "code",
   "execution_count": 104,
   "id": "c664dfa9-ba86-4606-94a3-5ea11c6e9f38",
   "metadata": {},
   "outputs": [
    {
     "name": "stdout",
     "output_type": "stream",
     "text": [
      "            sentiment_score\n",
      "date                       \n",
      "2019-01-31         0.390169\n",
      "2019-02-28         0.390169\n",
      "2019-03-31         0.390169\n",
      "2019-04-30         0.390169\n",
      "2019-05-31         0.390169\n",
      "...                     ...\n",
      "2024-07-31         0.500000\n",
      "2024-08-31         0.333333\n",
      "2024-09-30         1.000000\n",
      "2024-10-31         0.000000\n",
      "2024-11-30         0.000000\n",
      "\n",
      "[71 rows x 1 columns]\n"
     ]
    },
    {
     "name": "stderr",
     "output_type": "stream",
     "text": [
      "/var/folders/kf/5n1r052170d3qbxzm03bx0m00000gn/T/ipykernel_45916/3944901916.py:3: FutureWarning: 'M' is deprecated and will be removed in a future version, please use 'ME' instead.\n",
      "  date_range = pd.date_range(start='2019-01-01', end='2020-03-31', freq='M')\n"
     ]
    }
   ],
   "source": [
    "   # We append the values and extand it to have values since 2019 \n",
    "# We Create a date range for the desired period\n",
    "date_range = pd.date_range(start='2019-01-01', end='2020-03-31', freq='M')\n",
    "\n",
    "# Then we Create a new DataFrame with the missing dates and mean sentiment\n",
    "new_data = pd.DataFrame({'date': date_range, 'sentiment_score': mean_sentiment_score_per_month})\n",
    "\n",
    "# Set 'date' as the index\n",
    "new_data.set_index('date', inplace=True)\n",
    "sentiment_scores_per_month = sentiment_scores_per_month.reset_index() # reset the index to have a date column\n",
    "sentiment_scores_per_month.set_index('date', inplace=True) # set 'date' column as the index\n",
    "\n",
    "# Concatenate the new data with the existing DataFrame\n",
    "all_sentiment_scores = pd.concat([new_data, sentiment_scores_per_month])\n",
    "\n",
    "# Print the updated DataFrame\n",
    "print(all_sentiment_scores)"
   ]
  },
  {
   "cell_type": "code",
   "execution_count": 116,
   "id": "73f2097b-e639-419b-ab75-0f94552d45e4",
   "metadata": {},
   "outputs": [
    {
     "name": "stdout",
     "output_type": "stream",
     "text": [
      "/Users/theocostanzo/Downloads\n"
     ]
    }
   ],
   "source": [
    " # To download the file\n",
    "\n",
    "import os\n",
    "print(os.getcwd())  # give actual position of where we are\n",
    "\n",
    "absolute_path_Sentiment = relative_path = os.path.join(os.getcwd(),'all_sentiment_scores.csv')\n",
    "all_sentiment_scores.to_csv(absolute_path_Sentiment)\n",
    "\n"
   ]
  },
  {
   "cell_type": "markdown",
   "id": "f9f4d7ce-fcb5-46c6-b228-fa03112c3803",
   "metadata": {},
   "source": [
    " Now we can make differents models and compute the MSE to find the one that fits the best our datas\n",
    "The computing is made with the help of library sklearn essentially"
   ]
  },
  {
   "cell_type": "markdown",
   "id": "b8c2779e-aeeb-44f2-880f-6de115787a6c",
   "metadata": {},
   "source": [
    "A/ Linear Regression"
   ]
  },
  {
   "cell_type": "code",
   "execution_count": 120,
   "id": "8b78572e-4f6d-4515-a082-55b0e8bd9f06",
   "metadata": {},
   "outputs": [
    {
     "name": "stdout",
     "output_type": "stream",
     "text": [
      "[[1, 1, 1, 1, 1, 1, 1, 1, 1, 1, 1, 1, 1, 1, 1, 1, 1, 1, 1, 1, 1, 1, 1, 1, 1, 1, 1, 1, 1, 1, 1, 1, 1, 1, 1, 1, 1, 1, 1, 1, 1, 1, 1, 1, 1, 1, 1, 1, 1, 1, 1, 1, 1, 1, 1, 1, 1, 1, 1, 1, 1, 1, 1, 1, 1, 1, 1, 1, 1, 1, 1], [2.4, 2.4, 2.41, 2.42, 2.39, 2.38, 2.4, 2.13, 2.04, 1.83, 1.55, 1.55, 1.55, 1.58, 0.65, 0.05, 0.05, 0.08, 0.09, 0.1, 0.09, 0.09, 0.09, 0.09, 0.09, 0.08, 0.07, 0.07, 0.06, 0.08, 0.1, 0.09, 0.08, 0.08, 0.08, 0.08, 0.08, 0.08, 0.2, 0.33, 0.77, 1.21, 1.68, 2.33, 2.56, 3.08, 3.78, 4.1, 4.33, 4.57, 4.65, 4.83, 5.06, 5.08, 5.12, 5.33, 5.33, 5.33, 5.33, 5.33, 5.33, 5.33, 5.33, 5.33, 5.33, 5.33, 5.33, 5.33, 5.13, 4.83, 4.64], [252.561, 253.319, 254.277, 255.233, 255.296, 255.213, 255.802, 256.036, 256.43, 257.155, 257.879, 258.63, 258.906, 259.246, 258.15, 256.126, 255.848, 257.004, 258.408, 259.366, 259.951, 260.249, 260.895, 262.005, 262.518, 263.583, 264.91, 266.752, 268.452, 270.664, 271.994, 272.789, 273.887, 276.434, 278.799, 280.808, 282.39, 284.535, 287.553, 288.764, 291.359, 294.996, 294.977, 295.209, 296.341, 297.863, 298.648, 298.812, 300.356, 301.509, 301.744, 303.032, 303.365, 304.003, 304.628, 306.187, 307.288, 307.531, 308.024, 308.742, 309.685, 311.054, 312.23, 313.207, 313.225, 313.049, 313.534, 314.121, 314.686, 315.454, 316.441], [0.3901689708141321, 0.3901689708141321, 0.3901689708141321, 0.3901689708141321, 0.3901689708141321, 0.3901689708141321, 0.3901689708141321, 0.3901689708141321, 0.3901689708141321, 0.3901689708141321, 0.3901689708141321, 0.3901689708141321, 0.3901689708141321, 0.3901689708141321, 0.3901689708141321, 1.0, 0.3901689708141321, 0.3901689708141321, 0.3901689708141321, 0.3901689708141321, 0.3901689708141321, 1.0, 1.0, 0.3901689708141321, 0.3901689708141321, 1.0, 0.3901689708141321, -1.0, 0.3901689708141321, 0.3901689708141321, 0.3901689708141321, 1.0, 0.3901689708141321, 0.0, 1.0, 1.0, 0.3901689708141321, 1.0, 0.3901689708141321, 0.3901689708141321, -1.0, 0.3901689708141321, 0.3901689708141321, 1.0, 0.3901689708141321, 0.3901689708141321, -1.0, 0.5, 0.0, 0.3901689708141321, 0.3901689708141321, 0.6666666666666666, 0.6666666666666666, 0.3901689708141321, -1.0, 1.0, 0.0, 0.3901689708141321, 1.0, 0.5, 0.3901689708141321, 0.3901689708141321, 0.25, -0.25, 0.5, 0.42857142857142855, 0.5, 0.3333333333333333, 1.0, 0.0, 0.0]]\n"
     ]
    }
   ],
   "source": [
    "\n",
    "super_liste = [[], [], [], []]\n",
    "\n",
    "with open(relative_path) as file_1:\n",
    "    donnees = file_1.readlines()\n",
    "    for k in donnees[1:]:\n",
    "        colonnes = k.split(',')\n",
    "        super_liste[3].append(float(colonnes[1]))\n",
    "        \n",
    "for i,j in zip(fed_fund_rate_per_month['FEDFUNDS'], CPI_per_month['CPIAUCSL']):\n",
    "  super_liste[0].append(1) #These 1 added are for the B0.\n",
    "  super_liste[1].append(i)\n",
    "  super_liste[2].append(j)\n",
    "\n",
    "print(super_liste)"
   ]
  },
  {
   "cell_type": "markdown",
   "id": "5fa574d0-ee95-4b1f-b665-884f4c95284d",
   "metadata": {},
   "source": [
    "## Matrix Regressande\n",
    "This matrix contains the Starbucks's stock prices, the dependent variable."
   ]
  },
  {
   "cell_type": "code",
   "execution_count": 122,
   "id": "e1a211da-8146-47ce-af1b-118f9f3bc7fc",
   "metadata": {},
   "outputs": [
    {
     "name": "stdout",
     "output_type": "stream",
     "text": [
      "[57.58712296258835, 62.39415138646176, 63.73977842785063, 67.56358228410993, 69.18888820301403, 73.9644271850586, 81.11847235939719, 86.23412981900302, 82.44650688171387, 76.55912614905316, 75.31091957092285, 78.86604781377883, 81.34457034156436, 78.22207842375103, 61.47112742337313, 66.078125726609, 69.17671241760254, 70.22615640813655, 68.49986059015447, 72.44498189290364, 78.64512379964192, 81.46319684115323, 87.48806076049804, 94.85483342950994, 94.80022791812294, 96.29346024362664, 99.70469068444294, 106.36382293701172, 104.59002075195312, 104.09060218117452, 111.1812973022461, 108.82815447720614, 107.5569134666806, 104.90931156703404, 105.23294467017764, 106.5404780994762, 95.91282539367675, 88.74222404078434, 82.59339506729789, 75.9062442779541, 70.2270031883603, 72.09137689499627, 76.67493629455566, 82.1425084653108, 83.66844540550595, 83.2696304321289, 91.30027988978794, 96.73357355026972, 101.93954544067384, 102.15912427400288, 97.20811760943867, 103.8797876458419, 101.3570986661044, 96.42833528064546, 97.57413330078126, 96.35335772970448, 92.43654136657716, 90.46675942160869, 100.58648608979723, 94.8189182281494, 91.253053574335, 93.0755443572998, 90.25807342529296, 86.29074200716886, 75.63967999545011, 79.8385154322574, 74.77533721923828, 87.31976630470969, 95.47550010681152, 96.38521642270295, 99.2680004119873]\n"
     ]
    }
   ],
   "source": [
    "regressande = []\n",
    "\n",
    "with open('SBUX_price_data_close_per_month.csv') as file_2:\n",
    "    data = file_2.readlines()\n",
    "    for line in data[1:]:\n",
    "        colonnes = line.split(',')\n",
    "        regressande.append(float(colonnes[1]))\n",
    "\n",
    "\n",
    "print(regressande)"
   ]
  },
  {
   "cell_type": "markdown",
   "id": "0862be62-4e6c-42a5-8463-72726d770d19",
   "metadata": {},
   "source": [
    "## Creation of the matrix\n",
    "Now, we compute the coefficient beta (B0, B1, B2, B3), according to Gauss-Markov theorem, thoses coefficients are BLUE ! Those with the least variance among those without biases."
   ]
  },
  {
   "cell_type": "code",
   "execution_count": 124,
   "id": "482e7e2c-7257-41b7-baff-9faa87e5c732",
   "metadata": {},
   "outputs": [
    {
     "name": "stdout",
     "output_type": "stream",
     "text": [
      "The coefficient vector is : [-37.40974904  -2.94828149   0.46380195   1.40896463]\n"
     ]
    }
   ],
   "source": [
    "import numpy as np\n",
    "from numpy.linalg import inv # This allows to invert a matrix.\n",
    "\n",
    "X = np.array(super_liste).T\n",
    "\n",
    "y = np.array(regressande)\n",
    "\n",
    "Beta = inv(X.T @ X) @ X.T @ y\n",
    "print(f'The coefficient vector is : {Beta}')"
   ]
  },
  {
   "cell_type": "markdown",
   "id": "dc7a3080-291d-4943-b22e-2b08f27ba529",
   "metadata": {},
   "source": [
    "## Multicolinearity detection\n",
    "\n",
    "A major hypothesis from linear regression is the absence of multicolinearity. In other words, independent variables can't be written as a ponderate sum of the others. \n",
    "\n",
    "If it's the case, the matrix is no longer invertable and linear analysis cannot be computed. If multicolinearity is perfect, the issue is easy to solve, a column just needs removing. However, if it's almost perfect, the linear regression is computable, but the standard deviations of the coefficient are much larger than if there wasn't any multicolinearity. There is a loss of precision of the model.\n",
    "\n",
    "To detect it, we compute the correlation matrix and define a correlation threeshold above which two variables are deemed colinear. Let this threeshold be p = 0.95."
   ]
  },
  {
   "cell_type": "markdown",
   "id": "d958c0b2-4fd1-4ca2-b1dc-a6457bd86bb7",
   "metadata": {},
   "source": [
    "## Creation correlation matrix"
   ]
  },
  {
   "cell_type": "code",
   "execution_count": 126,
   "id": "fec3edf6-fc57-469a-a920-b71cf19dc634",
   "metadata": {},
   "outputs": [
    {
     "name": "stdout",
     "output_type": "stream",
     "text": [
      "The initial correlation matrix is :\n",
      "\n",
      "[[ 1.          0.77719308 -0.13509243]\n",
      " [ 0.77719308  1.         -0.13031402]\n",
      " [-0.13509243 -0.13031402  1.        ]]\n",
      "      \n"
     ]
    }
   ],
   "source": [
    "corr_X = np.delete(X, obj = 0, axis = 1)\n",
    "corr_X = np.corrcoef(corr_X.T)\n",
    "\n",
    "#Let's remove a variable whose correlation with another is superior than .95.\n",
    "#Perhaps, no variable is as much correlated to another one.\n",
    "\n",
    "print(f'''The initial correlation matrix is :\n",
    "\n",
    "{corr_X}\n",
    "      ''')"
   ]
  },
  {
   "cell_type": "markdown",
   "id": "22686d08-d431-4e90-b1b5-dec18f93e6df",
   "metadata": {},
   "source": [
    "The folowing code computes the correlation matrix according to the regressande. When it detects a correlation which is too high between two variables, it removes one of the two and recomputes a new correlation matrix as long as no variables is too highly correlated with an other one. It's in fact a loop that reinitializes each time a column is removed."
   ]
  },
  {
   "cell_type": "code",
   "execution_count": 128,
   "id": "5ae2c3ab-3926-482b-bd4f-53b4cf761339",
   "metadata": {},
   "outputs": [
    {
     "name": "stdout",
     "output_type": "stream",
     "text": [
      "The new one is :\n",
      "[[ 1.          0.77719308 -0.13509243]\n",
      " [ 0.77719308  1.         -0.13031402]\n",
      " [-0.13509243 -0.13031402  1.        ]]\n",
      "The X matrix is :[[ 1.00000000e+00  2.40000000e+00  2.52561000e+02  3.90168971e-01]\n",
      " [ 1.00000000e+00  2.40000000e+00  2.53319000e+02  3.90168971e-01]\n",
      " [ 1.00000000e+00  2.41000000e+00  2.54277000e+02  3.90168971e-01]\n",
      " [ 1.00000000e+00  2.42000000e+00  2.55233000e+02  3.90168971e-01]\n",
      " [ 1.00000000e+00  2.39000000e+00  2.55296000e+02  3.90168971e-01]\n",
      " [ 1.00000000e+00  2.38000000e+00  2.55213000e+02  3.90168971e-01]\n",
      " [ 1.00000000e+00  2.40000000e+00  2.55802000e+02  3.90168971e-01]\n",
      " [ 1.00000000e+00  2.13000000e+00  2.56036000e+02  3.90168971e-01]\n",
      " [ 1.00000000e+00  2.04000000e+00  2.56430000e+02  3.90168971e-01]\n",
      " [ 1.00000000e+00  1.83000000e+00  2.57155000e+02  3.90168971e-01]\n",
      " [ 1.00000000e+00  1.55000000e+00  2.57879000e+02  3.90168971e-01]\n",
      " [ 1.00000000e+00  1.55000000e+00  2.58630000e+02  3.90168971e-01]\n",
      " [ 1.00000000e+00  1.55000000e+00  2.58906000e+02  3.90168971e-01]\n",
      " [ 1.00000000e+00  1.58000000e+00  2.59246000e+02  3.90168971e-01]\n",
      " [ 1.00000000e+00  6.50000000e-01  2.58150000e+02  3.90168971e-01]\n",
      " [ 1.00000000e+00  5.00000000e-02  2.56126000e+02  1.00000000e+00]\n",
      " [ 1.00000000e+00  5.00000000e-02  2.55848000e+02  3.90168971e-01]\n",
      " [ 1.00000000e+00  8.00000000e-02  2.57004000e+02  3.90168971e-01]\n",
      " [ 1.00000000e+00  9.00000000e-02  2.58408000e+02  3.90168971e-01]\n",
      " [ 1.00000000e+00  1.00000000e-01  2.59366000e+02  3.90168971e-01]\n",
      " [ 1.00000000e+00  9.00000000e-02  2.59951000e+02  3.90168971e-01]\n",
      " [ 1.00000000e+00  9.00000000e-02  2.60249000e+02  1.00000000e+00]\n",
      " [ 1.00000000e+00  9.00000000e-02  2.60895000e+02  1.00000000e+00]\n",
      " [ 1.00000000e+00  9.00000000e-02  2.62005000e+02  3.90168971e-01]\n",
      " [ 1.00000000e+00  9.00000000e-02  2.62518000e+02  3.90168971e-01]\n",
      " [ 1.00000000e+00  8.00000000e-02  2.63583000e+02  1.00000000e+00]\n",
      " [ 1.00000000e+00  7.00000000e-02  2.64910000e+02  3.90168971e-01]\n",
      " [ 1.00000000e+00  7.00000000e-02  2.66752000e+02 -1.00000000e+00]\n",
      " [ 1.00000000e+00  6.00000000e-02  2.68452000e+02  3.90168971e-01]\n",
      " [ 1.00000000e+00  8.00000000e-02  2.70664000e+02  3.90168971e-01]\n",
      " [ 1.00000000e+00  1.00000000e-01  2.71994000e+02  3.90168971e-01]\n",
      " [ 1.00000000e+00  9.00000000e-02  2.72789000e+02  1.00000000e+00]\n",
      " [ 1.00000000e+00  8.00000000e-02  2.73887000e+02  3.90168971e-01]\n",
      " [ 1.00000000e+00  8.00000000e-02  2.76434000e+02  0.00000000e+00]\n",
      " [ 1.00000000e+00  8.00000000e-02  2.78799000e+02  1.00000000e+00]\n",
      " [ 1.00000000e+00  8.00000000e-02  2.80808000e+02  1.00000000e+00]\n",
      " [ 1.00000000e+00  8.00000000e-02  2.82390000e+02  3.90168971e-01]\n",
      " [ 1.00000000e+00  8.00000000e-02  2.84535000e+02  1.00000000e+00]\n",
      " [ 1.00000000e+00  2.00000000e-01  2.87553000e+02  3.90168971e-01]\n",
      " [ 1.00000000e+00  3.30000000e-01  2.88764000e+02  3.90168971e-01]\n",
      " [ 1.00000000e+00  7.70000000e-01  2.91359000e+02 -1.00000000e+00]\n",
      " [ 1.00000000e+00  1.21000000e+00  2.94996000e+02  3.90168971e-01]\n",
      " [ 1.00000000e+00  1.68000000e+00  2.94977000e+02  3.90168971e-01]\n",
      " [ 1.00000000e+00  2.33000000e+00  2.95209000e+02  1.00000000e+00]\n",
      " [ 1.00000000e+00  2.56000000e+00  2.96341000e+02  3.90168971e-01]\n",
      " [ 1.00000000e+00  3.08000000e+00  2.97863000e+02  3.90168971e-01]\n",
      " [ 1.00000000e+00  3.78000000e+00  2.98648000e+02 -1.00000000e+00]\n",
      " [ 1.00000000e+00  4.10000000e+00  2.98812000e+02  5.00000000e-01]\n",
      " [ 1.00000000e+00  4.33000000e+00  3.00356000e+02  0.00000000e+00]\n",
      " [ 1.00000000e+00  4.57000000e+00  3.01509000e+02  3.90168971e-01]\n",
      " [ 1.00000000e+00  4.65000000e+00  3.01744000e+02  3.90168971e-01]\n",
      " [ 1.00000000e+00  4.83000000e+00  3.03032000e+02  6.66666667e-01]\n",
      " [ 1.00000000e+00  5.06000000e+00  3.03365000e+02  6.66666667e-01]\n",
      " [ 1.00000000e+00  5.08000000e+00  3.04003000e+02  3.90168971e-01]\n",
      " [ 1.00000000e+00  5.12000000e+00  3.04628000e+02 -1.00000000e+00]\n",
      " [ 1.00000000e+00  5.33000000e+00  3.06187000e+02  1.00000000e+00]\n",
      " [ 1.00000000e+00  5.33000000e+00  3.07288000e+02  0.00000000e+00]\n",
      " [ 1.00000000e+00  5.33000000e+00  3.07531000e+02  3.90168971e-01]\n",
      " [ 1.00000000e+00  5.33000000e+00  3.08024000e+02  1.00000000e+00]\n",
      " [ 1.00000000e+00  5.33000000e+00  3.08742000e+02  5.00000000e-01]\n",
      " [ 1.00000000e+00  5.33000000e+00  3.09685000e+02  3.90168971e-01]\n",
      " [ 1.00000000e+00  5.33000000e+00  3.11054000e+02  3.90168971e-01]\n",
      " [ 1.00000000e+00  5.33000000e+00  3.12230000e+02  2.50000000e-01]\n",
      " [ 1.00000000e+00  5.33000000e+00  3.13207000e+02 -2.50000000e-01]\n",
      " [ 1.00000000e+00  5.33000000e+00  3.13225000e+02  5.00000000e-01]\n",
      " [ 1.00000000e+00  5.33000000e+00  3.13049000e+02  4.28571429e-01]\n",
      " [ 1.00000000e+00  5.33000000e+00  3.13534000e+02  5.00000000e-01]\n",
      " [ 1.00000000e+00  5.33000000e+00  3.14121000e+02  3.33333333e-01]\n",
      " [ 1.00000000e+00  5.13000000e+00  3.14686000e+02  1.00000000e+00]\n",
      " [ 1.00000000e+00  4.83000000e+00  3.15454000e+02  0.00000000e+00]\n",
      " [ 1.00000000e+00  4.64000000e+00  3.16441000e+02  0.00000000e+00]]\n"
     ]
    }
   ],
   "source": [
    "colonne_supprimee = True\n",
    "\n",
    "while colonne_supprimee:\n",
    "  colonne_supprimee = False\n",
    "\n",
    "  for i in range(corr_X.shape[0]):\n",
    "    for j in range(i + 1, corr_X.shape[1]):\n",
    "      if abs(corr_X[i,j]) > 0.95 and i != j:\n",
    "        X = np.delete(X, j, axis = 1)\n",
    "        corr_X = np.corrcoef(X)\n",
    "        colonne_supprimee = True\n",
    "        break\n",
    "\n",
    "    if colonne_supprimee:\n",
    "      break\n",
    "\n",
    "print(f'''The new one is :\n",
    "{corr_X}''')\n",
    "\n",
    "print(\"The X matrix is :\" + str(X))"
   ]
  },
  {
   "cell_type": "markdown",
   "id": "9e2f7246-d7a7-4e09-a857-ae69a76e3b48",
   "metadata": {},
   "source": [
    "## Computation of R²\n",
    "\n",
    "R² is ratio between the variance of the predicted values over the real ones. \n",
    "We usually speak like : 'this model explains X % of dependent variable' is a direct reference to R²."
   ]
  },
  {
   "cell_type": "code",
   "execution_count": 130,
   "id": "fbd03485-a965-4d84-8034-7f0ccd906e86",
   "metadata": {},
   "outputs": [
    {
     "name": "stdout",
     "output_type": "stream",
     "text": [
      "The sum of squared residuals is : 9654\n",
      "This model explains 0.25098 of price.\n"
     ]
    }
   ],
   "source": [
    "#Residuals\n",
    "residus = y - X @ Beta\n",
    "\n",
    "#Sum of squared residuals\n",
    "SCR = np.sum(residus**2)\n",
    "print(f'The sum of squared residuals is : {SCR:.0f}')\n",
    "\n",
    "#R²\n",
    "R_squared = 1 - (SCR / ((len(y) - 1) * np.var(y)))\n",
    "\n",
    "\n",
    "#Other method\n",
    "\n",
    "#R²\n",
    "R_squared_2 = (np.var(X @ Beta) / np.var(y))\n",
    "print(f'This model explains {R_squared_2:.5f} of price.')\n",
    "\n"
   ]
  },
  {
   "cell_type": "markdown",
   "id": "98cdb55f-6556-40ab-ac6d-830fab33c16f",
   "metadata": {},
   "source": [
    "## Significativity test  \n",
    "\n",
    "**Student**\n",
    "\n",
    "In this Student test, we try to see if each coefficient is statistically significant, i.e different than 0. To analyze this, let our null hypothesis (H0) be a specific coefficient equal to 0.\n",
    "\n",
    "We compute the t-ratios which are equals to :\n",
    "\n",
    "- *the coefficient / standard error*\n",
    "\n",
    "Let the threeshold be 5 %. When comparing the t-ratios obtained versus the critical t (cr-t) at 5 %, if :\n",
    "- t is superior than cr-t, the coefficient is significant. We can reject H0.\n",
    "- t is inferior than cr-t, it's not significant. We cannot reject H0.\n"
   ]
  },
  {
   "cell_type": "code",
   "execution_count": 132,
   "id": "5b91797e-37da-4bd1-a89f-44772b8ed0ee",
   "metadata": {},
   "outputs": [
    {
     "name": "stdout",
     "output_type": "stream",
     "text": [
      "The t statistic of Β0 is equal to -1.3948836408855094 and\n",
      "is'nt significant.\n",
      "\n",
      "The t statistic of Β1 is equal to -2.7615321158068107 and\n",
      "is'nt significant.\n",
      "\n",
      "The t statistic of Β2 is equal to 4.576403392469247 and\n",
      "is significant.\n",
      "\n",
      "The t statistic of Β3 is equal to 0.4283721779913953 and\n",
      "is'nt significant.\n",
      "\n"
     ]
    }
   ],
   "source": [
    "import scipy.stats as stats\n",
    "import math as m\n",
    "\n",
    "estimated_residual_var = SCR / (len(y) - len(Beta))\n",
    "t_score = []\n",
    "\n",
    "#Variance-covariance matrix\n",
    "var_cov = estimated_residual_var * inv(X.T @ X)\n",
    "\n",
    "#Student test for each coefficient\n",
    "for i,j,k in zip(Beta, range(len(Beta)), range(len(Beta))):\n",
    "  t = i / m.sqrt(var_cov[j][j]) #t-ratio\n",
    "  if t > stats.t.ppf(0.975, df = len(y) - len(Beta)):\n",
    "    print(f'''The t statistic of \\N{GREEK CAPITAL LETTER BETA}{k} is equal to {t} and\n",
    "is significant.\\n''')\n",
    "    t_score.append(t)\n",
    "\n",
    "      \n",
    "  else:\n",
    "    print(f'''The t statistic of \\N{GREEK CAPITAL LETTER BETA}{k} is equal to {t} and\n",
    "is\\'nt significant.\\n''')\n",
    "  t_score.append(t)\n",
    "\n"
   ]
  },
  {
   "cell_type": "markdown",
   "id": "39d3ab85-c424-49b9-a520-893700cb3bc7",
   "metadata": {},
   "source": [
    "## The p-value is more general than critical-t. In fact the critical-t is p-value = 0.975 (bilateral test). Formally, p-value :\n",
    "\n",
    "- 2 * (1 - P(X > t) ) where X follows a Student law.\n",
    "\n",
    "The lower is the p-value, the better it is.\n",
    "\n",
    "It can be interpreted in many ways so here are one of them :\n",
    "- The probability of rejecting H0 by error.\n",
    "- The probability of getting our results knowing H0 is true => P(X / H0 is true).\n",
    "- The probability that our results are due to randomness."
   ]
  },
  {
   "cell_type": "code",
   "execution_count": 134,
   "id": "ea68a75a-049d-4bbc-a667-aa558feb635c",
   "metadata": {},
   "outputs": [
    {
     "name": "stdout",
     "output_type": "stream",
     "text": [
      "La p-value pour Β0 vaut 0.1676582\n",
      "La p-value pour Β1 vaut 0.0074166\n",
      "La p-value pour Β2 vaut 0.0000211\n",
      "La p-value pour Β3 vaut 0.0000211\n",
      "La p-value pour Β4 vaut 0.6697542\n"
     ]
    }
   ],
   "source": [
    "for t,j in zip(t_score, range(5)):\n",
    "  p = 2*(1 - (stats.t.cdf(abs(t), df = len(y) - len(Beta))))\n",
    "  print(f'La p-value pour \\N{GREEK CAPITAL LETTER BETA}{j} vaut {p:.7f}' )"
   ]
  },
  {
   "cell_type": "markdown",
   "id": "2ef67489-af45-4c49-97c3-61ee4932dfdf",
   "metadata": {},
   "source": [
    "## Confidence interval\n",
    "Confidence intervals are another means to determine if coefficients are significant. \n",
    "They always show the same result as Student test."
   ]
  },
  {
   "cell_type": "code",
   "execution_count": 136,
   "id": "41fc9717-3a35-447a-9056-87692bb296ff",
   "metadata": {},
   "outputs": [
    {
     "name": "stdout",
     "output_type": "stream",
     "text": [
      "Β0 is'nt significant.\n",
      "Β1 is significant.\n",
      "Β2 is significant.\n",
      "Β3 is'nt significant.\n"
     ]
    }
   ],
   "source": [
    "for b,j in zip(Beta, range(len(Beta))):\n",
    "    inf = b - m.sqrt(var_cov[j][j])*stats.t.ppf(0.975, df = len(y) - len(Beta))\n",
    "    sup = b + m.sqrt(var_cov[j][j])*stats.t.ppf(0.975, df = len(y) - len(Beta))\n",
    "    if 0 > inf and 0 < sup:\n",
    "        print(f'\\N{GREEK CAPITAL LETTER BETA}{j} is\\'nt significant.')\n",
    "    else:\n",
    "        print(f'\\N{GREEK CAPITAL LETTER BETA}{j} is significant.')"
   ]
  },
  {
   "cell_type": "markdown",
   "id": "5a7e2722-a4db-4599-aaee-c8a306490555",
   "metadata": {},
   "source": [
    "## Variance-covariance matrix"
   ]
  },
  {
   "cell_type": "code",
   "execution_count": 138,
   "id": "c180431c-35b4-4de0-93f1-ec41fd226aaa",
   "metadata": {},
   "outputs": [
    {
     "name": "stdout",
     "output_type": "stream",
     "text": [
      "[[ 7.19272784e+02  2.08248574e+01 -2.70509509e+00 -8.49524645e+00]\n",
      " [ 2.08248574e+01  1.13982374e+00 -8.36612464e-02  1.90314789e-01]\n",
      " [-2.70509509e+00 -8.36612464e-02  1.02710904e-02  1.35374801e-02]\n",
      " [-8.49524645e+00  1.90314789e-01  1.35374801e-02  1.08182664e+01]]\n"
     ]
    }
   ],
   "source": [
    "var_cov = estimated_residual_var * inv(X.T @ X)\n",
    "print(var_cov)"
   ]
  },
  {
   "cell_type": "markdown",
   "id": "9ea2148c-0f08-4d3e-9b3e-4780a91ba7b6",
   "metadata": {},
   "source": [
    "## Fisher\n",
    "\n",
    "A Fisher test computes the significativity of a model rather than coefficient in a student. The test can be interpreted as the variation of a constrained model compared to a non-constrained one.\n",
    "\n",
    "Formally it's defined as :\n",
    "- (SCRc - SCRnc) * r / SCRnc ÷ (n - k)\n",
    "\n",
    "where :\n",
    "\n",
    "- SCRc = constrained model\n",
    "- SCRnc = non-constrained model\n",
    "- r = number of constraints\n",
    "- n = number of observations\n",
    "- k = number of variables\n",
    "- The principle is the same as Student."
   ]
  },
  {
   "cell_type": "code",
   "execution_count": 140,
   "id": "3afb8a4f-412b-4bdb-9863-e34f93a94a84",
   "metadata": {},
   "outputs": [
    {
     "name": "stdout",
     "output_type": "stream",
     "text": [
      "As the p_value is below 5% (0.000000000000), we can assume the model is significant.\n"
     ]
    }
   ],
   "source": [
    "#Fisher general\n",
    "# We test for all coefficient = 0 ==> 4 constraints (to put)\n",
    "\n",
    "SCR_y = np.sum(y**2)\n",
    "\n",
    "F = ((SCR_y -  SCR)/ 4) / (SCR / len(y) - len(Beta))\n",
    "\n",
    "p_value_fisher_1 = 1 - stats.f.cdf(F, len(Beta), len(y))\n",
    "\n",
    "if p_value_fisher_1 > 0.05:\n",
    "  print(f'As the p_value is above 5% ({p_value_fisher_1}), we cannot assume the model is significant.')\n",
    "\n",
    "else:\n",
    "  print(f'As the p_value is below 5% ({p_value_fisher_1:.12f}), we can assume the model is significant.')\n"
   ]
  },
  {
   "cell_type": "code",
   "execution_count": 142,
   "id": "a6479d04-358e-40f6-a7b9-2c491e6d0156",
   "metadata": {},
   "outputs": [
    {
     "name": "stdout",
     "output_type": "stream",
     "text": [
      "1.9457003716075023\n"
     ]
    }
   ],
   "source": [
    "#For B0 = 0 (as a try)\n",
    "\n",
    "X_B0 = np.delete(X, (0), axis = 1)\n",
    "Beta_B0 = inv(X_B0.T @ X_B0) @ X_B0.T @ y\n",
    "\n",
    "SCR_B0 = sum((y - X_B0 @ Beta_B0)**2)\n",
    "\n",
    "Fisher = (SCR_B0 - SCR) / (SCR / (len(y) - len(Beta)))\n",
    "print(Fisher)"
   ]
  },
  {
   "cell_type": "code",
   "execution_count": 144,
   "id": "957e7f94-160c-4940-8dda-8e43a7304bb5",
   "metadata": {},
   "outputs": [
    {
     "name": "stdout",
     "output_type": "stream",
     "text": [
      "For the coefficient Β0 = 0, F equals 1.9457003716075023\n",
      "For the coefficient Β1 = 0, F equals 7.62605962662752\n",
      "For the coefficient Β2 = 0, F equals 20.943468010597925\n",
      "For the coefficient Β3 = 0, F equals 0.18350272287707056\n"
     ]
    }
   ],
   "source": [
    "F_score = []\n",
    "\n",
    "# We've made a loop to test for each coefficient = 0 instead of doing it manually.\n",
    "for i in range(len(Beta)):\n",
    "\n",
    "  X_B = np.delete(X, (i), axis = 1)\n",
    "  Beta_B = inv(X_B.T @ X_B) @ X_B.T @ y\n",
    "\n",
    "  SCR_B = sum((y - X_B @ Beta_B)**2)\n",
    "\n",
    "  F = (SCR_B - SCR) / (SCR / (len(y) - len(Beta)))\n",
    "  print(f'''For the coefficient \\N{GREEK CAPITAL LETTER BETA}{i} = 0, F equals {F}''')\n",
    "  F_score.append(F)"
   ]
  },
  {
   "cell_type": "markdown",
   "id": "2b73bfcf-7d24-437f-85ca-9803eec9e5f1",
   "metadata": {},
   "source": [
    "## Fisher p-value\n",
    "\n",
    "Let's compute the p-value."
   ]
  },
  {
   "cell_type": "code",
   "execution_count": 146,
   "id": "05cdcfc4-6ba0-44d1-ac85-9cad6476fb7d",
   "metadata": {},
   "outputs": [
    {
     "name": "stdout",
     "output_type": "stream",
     "text": [
      "The fisher p-value for Β0 is equal 0.3353165\n",
      "The fisher p-value for Β1 is equal 0.0148332\n",
      "The fisher p-value for Β2 is equal 0.0000421\n",
      "The fisher p-value for Β3 is equal 1.3395084\n",
      "The model with Β0 isn't significant\n",
      "The model with Β1 is significant\n",
      "The model with Β2 is significant\n",
      "The model with Β3 isn't significant\n"
     ]
    }
   ],
   "source": [
    "fisher_law = stats.f(1, len(y) - len(Beta))\n",
    "p_value_fisher_list = []\n",
    "\n",
    "\n",
    "for i,j in zip(F_score, range(4)):\n",
    "  p_value_fisher_2 = 2*(1 - fisher_law.cdf(i))\n",
    "  print(f'''The fisher p-value for \\N{GREEK CAPITAL LETTER BETA}{j} is equal {p_value_fisher_2:.7f}''')\n",
    "  p_value_fisher_list.append(p_value_fisher_2)\n",
    "\n",
    "for k,j in zip(p_value_fisher_list, range(len(Beta))):\n",
    "  if k < 0.05:\n",
    "    print(f'The model with \\N{GREEK CAPITAL LETTER BETA}{j} is significant')\n",
    "  else:\n",
    "    print(f'The model with \\N{GREEK CAPITAL LETTER BETA}{j} isn\\'t significant')"
   ]
  },
  {
   "cell_type": "markdown",
   "id": "9ec85993-3b6b-42ed-bac9-fb9612dbcb9f",
   "metadata": {},
   "source": [
    "B/ Lasso model"
   ]
  },
  {
   "cell_type": "markdown",
   "id": "b2d081ac-8561-453c-9518-cd369f244a98",
   "metadata": {},
   "source": [
    "The Lasso model (Least Absolute Shrinkage and Selection Operator) is a type of linear regression technique used in machine learning for both regularization and feature selection. It aims to improve the predictive performance of a regression model by preventing overfitting, especially when the number of features (variables) is large."
   ]
  },
  {
   "cell_type": "code",
   "execution_count": 148,
   "id": "8147c8f5-c9d8-4f79-9db9-61e2a95976d7",
   "metadata": {},
   "outputs": [
    {
     "name": "stdout",
     "output_type": "stream",
     "text": [
      "Correlation Matrix:\n",
      "                      all_sentiment_scores  list_fed_agregate  \\\n",
      "all_sentiment_scores              1.000000          -0.135092   \n",
      "list_fed_agregate                -0.135092           1.000000   \n",
      "list_CPI_agregate                -0.130314           0.777193   \n",
      "\n",
      "                      list_CPI_agregate  \n",
      "all_sentiment_scores          -0.130314  \n",
      "list_fed_agregate              0.777193  \n",
      "list_CPI_agregate              1.000000  \n",
      "Best alpha: 0.1\n",
      "Best score: 162.1615141237365\n",
      "Important variables:\n",
      "               Variable  Coefficient\n",
      "0  all_sentiment_scores     1.030172\n",
      "1     list_fed_agregate    -6.386840\n",
      "2     list_CPI_agregate    10.228990\n"
     ]
    }
   ],
   "source": [
    "\n",
    "import pandas as pd\n",
    "from sklearn.linear_model import Lasso\n",
    "from sklearn.model_selection import GridSearchCV, train_test_split\n",
    "from sklearn.preprocessing import StandardScaler\n",
    "\n",
    "# Create a dictionary with our data\n",
    "data = {\n",
    "    'List_prix_agregate': List_prix_agregate, \n",
    "    'all_sentiment_scores': all_sentiment_scores[\"sentiment_score\"], \n",
    "    'list_CPI_agregate': list_CPI_agregate, \n",
    "    'list_fed_agregate': list_fed_agregate}\n",
    "\n",
    "# Create the DataFrame\n",
    "dt = pd.DataFrame(data)\n",
    "\n",
    "# Now you can access columns by name\n",
    "X = dt[['all_sentiment_scores', 'list_fed_agregate', 'list_CPI_agregate']]\n",
    "y = dt['List_prix_agregate']\n",
    "\n",
    "# Calculate correlation matrix\n",
    "correlation_matrix = X.corr()\n",
    "print(\"Correlation Matrix:\")\n",
    "print(correlation_matrix) # features are not so much correlated between them but the CPI and the Fed rates are whith a percentage of 77% (which was likely to be expected when we know \n",
    "                           # objectively that inflation and interest rate are correlated\n",
    "\n",
    "# 1. Split data into training and testing sets\n",
    "X_train, X_test, y_train, y_test = train_test_split(X, y, test_size=0.2, random_state=45)\n",
    "\n",
    "# 2. Feature scaling\n",
    "scaler = StandardScaler()\n",
    "X_train = scaler.fit_transform(X_train)\n",
    "X_test = scaler.transform(X_test)\n",
    "\n",
    "# 3. Define the Lasso model and parameter grid\n",
    "  # Ps : to have the best parameter, we make test by testing 6 relevant values : \n",
    "     # 0.001, 0.01, 0.1, 1, 10, 100. The best hyperparameter is the on that \n",
    "lasso = Lasso()\n",
    "hyperparameters = {'alpha': [0.001, 0.01, 0.1, 1, 10, 100]} \n",
    "\n",
    "# 4. We use GridSearchCV to find the optimal alpha\n",
    "grid_search = GridSearchCV(lasso, hyperparameters, scoring='neg_mean_squared_error', cv=10)\n",
    "grid_search.fit(X_train, y_train)\n",
    "\n",
    "# Access the best hyperparameter using best_params_\n",
    "print(\"Best alpha:\", grid_search.best_params_['alpha']) # Changed from best_hyperparameter_ to best_params_\n",
    "print(\"Best score:\", -grid_search.best_score_) \n",
    "\n",
    "# 5. Get the important variables\n",
    "best_lasso = grid_search.best_estimator_\n",
    "coefficients = best_lasso.coef_\n",
    "\n",
    "importance = pd.DataFrame({'Variable': X.columns, 'Coefficient': coefficients})\n",
    "importance = importance[importance['Coefficient'] != 0] \n",
    "# We make disappear non important features \n",
    "#and we can see that sentiment score is an irrelevant feature. This was likely to be expected when we computed the correlation dataframe\n",
    "print(\"Important variables:\")\n",
    "print(importance)"
   ]
  },
  {
   "cell_type": "markdown",
   "id": "88c8f21a-d8ff-4b52-a4ec-154872d61457",
   "metadata": {},
   "source": [
    "C/ Random forest model"
   ]
  },
  {
   "cell_type": "markdown",
   "id": "c6d08e59-a3bb-47ac-898f-113030ff9096",
   "metadata": {},
   "source": [
    "Random Forest is an ensemble learning method used for both classification and regression tasks in machine learning. It works by constructing multiple decision trees during training and outputs the class or prediction that is the mode (for classification) or mean (for regression) of the individual trees' predictions."
   ]
  },
  {
   "cell_type": "code",
   "execution_count": 151,
   "id": "ff883f6b-92a8-4206-b862-192a660db9cf",
   "metadata": {},
   "outputs": [
    {
     "name": "stdout",
     "output_type": "stream",
     "text": [
      "Mean Squared Error: 14.610137139341214\n",
      "Feature Importances:\n",
      "               Variable  Importance\n",
      "2     list_CPI_agregate    0.801730\n",
      "1     list_fed_agregate    0.160038\n",
      "0  all_sentiment_scores    0.038232\n"
     ]
    }
   ],
   "source": [
    "\n",
    "from sklearn.ensemble import RandomForestRegressor\n",
    "from sklearn.model_selection import train_test_split\n",
    "from sklearn.preprocessing import StandardScaler\n",
    "from sklearn.metrics import mean_squared_error\n",
    "\n",
    "\n",
    "# We will use the last dataframe dt\n",
    "X = dt[['all_sentiment_scores', 'list_fed_agregate', 'list_CPI_agregate']]\n",
    "y = dt['List_prix_agregate']\n",
    "\n",
    "# 1. Split data into training and testing sets\n",
    "X_train, X_test, y_train, y_test = train_test_split(X, y, test_size=0.2, random_state=45)\n",
    "\n",
    "# 2. Feature scaling (optional for Random Forest, but generally good practice)\n",
    "scaler = StandardScaler()\n",
    "X_train = scaler.fit_transform(X_train)\n",
    "X_test = scaler.transform(X_test)\n",
    "\n",
    "# 3. Create and train the Random Forest model\n",
    "forest_model = RandomForestRegressor(n_estimators=100, random_state=45)  # Adjust hyperparameters as needed\n",
    "forest_model.fit(X_train, y_train)\n",
    "\n",
    "# 4. Make predictions\n",
    "y_pred = forest_model.predict(X_test)\n",
    "\n",
    "# 5. Evaluate the model\n",
    "mse = mean_squared_error(y_test, y_pred)\n",
    "print(f\"Mean Squared Error: {mse}\")\n",
    "\n",
    "# 6. If we look at coefficients by importance :\n",
    "feature_importances = forest_model.feature_importances_\n",
    "importance = pd.DataFrame({'Variable': X.columns, 'Importance': feature_importances})\n",
    "importance = importance.sort_values(by='Importance', ascending=False)\n",
    "print(\"Feature Importances:\")\n",
    "print(importance)"
   ]
  },
  {
   "cell_type": "markdown",
   "id": "26c9ac31-8f01-4178-b1b4-3033ae33a486",
   "metadata": {},
   "source": [
    "Conclusion :\n",
    "\n",
    "We can see that the MSE (mean squared error) for the different models are :\n",
    "- Linear regression : 9654\n",
    "- Lasso model : 162.16151641443358\n",
    "- Random forest : 14.622083580298177\n",
    "\n",
    "=> The best model that fit our data is the random forest being that it has the lower mean squarred error (or MSE or SCR in french). \n",
    "This result is not surprising since we know that Random Forest models are generally better suited for complex, non-linear relationships that are often present in financial markets and specifically when it comes to predicting asset prices based on sentiment market or economic indicators."
   ]
  },
  {
   "cell_type": "markdown",
   "id": "afce97fb-f219-41b4-8372-79d6b01315e8",
   "metadata": {},
   "source": [
    "# Visualization and analysis of predictions and risks"
   ]
  },
  {
   "cell_type": "markdown",
   "id": "8eb9271c-f4ba-4093-98f8-d470a738c89b",
   "metadata": {},
   "source": [
    "TASK 4 \n",
    "  1. Volatility measures and risk indicators\n",
    "  \n",
    "  a. volatility measures : standard error or std\n",
    " "
   ]
  },
  {
   "cell_type": "code",
   "execution_count": 153,
   "id": "6a6554f0-c317-44b5-a328-2894b24cec67",
   "metadata": {},
   "outputs": [
    {
     "name": "stderr",
     "output_type": "stream",
     "text": [
      "[*********************100%***********************]  1 of 1 completed"
     ]
    },
    {
     "name": "stdout",
     "output_type": "stream",
     "text": [
      "Dynamic monthly volatility of SBUX (12-month rolling standard deviation):\n",
      "Ticker          SBUX\n",
      "Date                \n",
      "2019-01-31  0.063812\n",
      "2019-02-28  0.062792\n",
      "2019-03-31  0.062561\n",
      "2019-04-30  0.063454\n",
      "2019-05-31  0.061854\n",
      "...              ...\n",
      "2024-07-31  0.060406\n",
      "2024-08-31  0.081309\n",
      "2024-09-30  0.085121\n",
      "2024-10-31  0.084688\n",
      "2024-11-30  0.078687\n",
      "\n",
      "[71 rows x 1 columns]\n"
     ]
    },
    {
     "name": "stderr",
     "output_type": "stream",
     "text": [
      "\n",
      "/var/folders/kf/5n1r052170d3qbxzm03bx0m00000gn/T/ipykernel_45916/3293603015.py:16: FutureWarning: 'M' is deprecated and will be removed in a future version, please use 'ME' instead.\n",
      "  SBUX_data_per_month = SBUX_data_close.resample('M').mean()\n"
     ]
    }
   ],
   "source": [
    " #COMPUTING OF MONTHLY STD\n",
    "\n",
    "# PS : We use the rolling function which calculates the volatility over each month but the latter assigns Na values ​​over the first 12 months because it draws the \n",
    "  #information from this so we will choose a start date one year rather than the period of ingestion of the data to have no Na value from 2019\n",
    "\n",
    "# Download data for the S&P 500 (SPY) and SBUX (Starbucks), starting from 2018\n",
    "SBUX_data = yf.download(\"SBUX\", start=\"2018-01-01\", end=\"2024-12-01\")\n",
    "\n",
    "# Extract adjusted close prices\n",
    "SBUX_data_close = SBUX_data[\"Close\"]\n",
    "\n",
    "# Convert the index to DatetimeIndex\n",
    "SBUX_data_close.index = pd.to_datetime(SBUX_data_close.index)\n",
    "\n",
    "# Resample data to monthly frequency (average values)\n",
    "SBUX_data_per_month = SBUX_data_close.resample('M').mean()\n",
    "\n",
    "# Calculate monthly returns for SPY and SBUX\n",
    "rendement_SBUX = SBUX_data_per_month.pct_change()  # Monthly return for SBUX\n",
    "\n",
    "# Calculate rolling volatility (standard deviation) over a 12-month window\n",
    "window_size = 12\n",
    "\n",
    "# Calculate rolling standard deviation (volatility) for SBUX (dynamic over 12 months)\n",
    "std_SBUX_monthly = rendement_SBUX.rolling(window=window_size).std().dropna()\n",
    "\n",
    "# Display the results\n",
    "print(\"Dynamic monthly volatility of SBUX (12-month rolling standard deviation):\")\n",
    "print(std_SBUX_monthly)\n",
    "\n",
    "\n"
   ]
  },
  {
   "cell_type": "code",
   "execution_count": 155,
   "id": "7cc960d9-d201-4e20-a5cf-f3544f132252",
   "metadata": {},
   "outputs": [],
   "source": [
    "# Exporter vers un fichier CSV\n",
    "absolute_path_std = relative_path = os.path.join(os.getcwd(),'std_SBUX_monthly.csv')\n",
    "std_SBUX_monthly.to_csv(absolute_path_std, index=False)  # index=True pour inclure l'index\n",
    "\n",
    "# Importer le fichier CSV\n",
    "df_std_SBUX_monthly = pd.read_csv(absolute_path_std, index_col=0)  # index_col=0 to use the first column as index\n"
   ]
  },
  {
   "cell_type": "markdown",
   "id": "3d49fa44-04df-42de-a0c1-e72061d05121",
   "metadata": {},
   "source": [
    "  b. risk indicators : Beta\n",
    "\n",
    "A measure of the market volatility of a security by comparing it to a stock index. The market representative here is the S&P 500 which is a broad and diversified index that represents approximately 80% of the total market capitalization of the US market. It is therefore considered a better representation of the entire market (for stocks like SBUX) than the NASDAQ, which is more focused on technology and performance companies. Which makes the S&P 500 the best index for calculating SBUX beta. \n",
    "It would have been Apple, a successful stock, we would have chosen the NASDAQ."
   ]
  },
  {
   "cell_type": "code",
   "execution_count": 157,
   "id": "78939d0c-625d-4b94-afcd-f35df299fde4",
   "metadata": {},
   "outputs": [
    {
     "name": "stderr",
     "output_type": "stream",
     "text": [
      "[*********************100%***********************]  1 of 1 completed"
     ]
    },
    {
     "name": "stdout",
     "output_type": "stream",
     "text": [
      "general beta :0.7209078678807845\n",
      "dynamic betas :<bound method NDFrame.head of Date\n",
      "2019-12-31    0.020277\n",
      "2020-01-31   -0.016607\n",
      "2020-02-29   -0.033660\n",
      "2020-03-31    0.051348\n",
      "2020-04-30    0.034494\n",
      "2020-05-31    0.030639\n",
      "2020-06-30    0.032626\n",
      "2020-07-31    0.034749\n",
      "2020-08-31    0.053950\n",
      "2020-09-30    0.055061\n",
      "2020-10-31    0.052363\n",
      "2020-11-30    0.057295\n",
      "2020-12-31    0.058174\n",
      "2021-01-31    0.054111\n",
      "2021-02-28    0.059576\n",
      "2021-03-31   -0.052130\n",
      "2021-04-30    0.140945\n",
      "2021-05-31    0.031225\n",
      "2021-06-30   -0.070199\n",
      "2021-07-31   -0.200028\n",
      "2021-08-31   -0.256094\n",
      "2021-09-30   -0.135229\n",
      "2021-10-31   -0.084965\n",
      "2021-11-30    0.068273\n",
      "2021-12-31    0.238668\n",
      "2022-01-31    0.334688\n",
      "2022-02-28    0.401142\n",
      "2022-03-31    0.423259\n",
      "2022-04-30    0.598220\n",
      "2022-05-31    0.325341\n",
      "2022-06-30    0.185119\n",
      "2022-07-31   -0.099046\n",
      "2022-08-31   -0.174318\n",
      "2022-09-30   -0.180652\n",
      "2022-10-31   -0.186433\n",
      "2022-11-30   -0.281493\n",
      "2022-12-31   -0.345985\n",
      "2023-01-31   -0.259009\n",
      "2023-02-28   -0.179284\n",
      "2023-03-31   -0.110318\n",
      "2023-04-30   -0.036255\n",
      "2023-05-31   -0.047697\n",
      "2023-06-30   -0.124440\n",
      "2023-07-31   -0.126193\n",
      "2023-08-31   -0.165117\n",
      "2023-09-30   -0.359965\n",
      "2023-10-31   -0.421482\n",
      "2023-11-30   -0.176869\n",
      "2023-12-31   -0.137144\n",
      "2024-01-31   -0.076084\n",
      "2024-02-29   -0.034389\n",
      "2024-03-31   -0.167149\n",
      "2024-04-30   -0.037125\n",
      "2024-05-31   -0.114994\n",
      "2024-06-30   -0.108166\n",
      "2024-07-31   -0.114312\n",
      "2024-08-31   -0.083674\n",
      "2024-09-30   -0.076377\n",
      "2024-10-31   -0.168675\n",
      "2024-11-30    0.064994\n",
      "Freq: ME, dtype: float64>\n",
      "Beta < 1: This suggests that the stock of SBUX is less volatile than the market.\n"
     ]
    },
    {
     "name": "stderr",
     "output_type": "stream",
     "text": [
      "\n",
      "/var/folders/kf/5n1r052170d3qbxzm03bx0m00000gn/T/ipykernel_45916/4047949570.py:11: FutureWarning: 'M' is deprecated and will be removed in a future version, please use 'ME' instead.\n",
      "  spy_data_per_month = spy_data_close.resample('M').mean()\n"
     ]
    }
   ],
   "source": [
    "# Download data for SBUX and SPY, starting from 2018\n",
    "spy_data = yf.download(\"SPY\", start=\"2018-01-01\", end=\"2024-12-01\")\n",
    "\n",
    "# Extract adjusted close prices\n",
    "spy_data_close = spy_data[\"Close\"]\n",
    "\n",
    "# Convert the index to DatetimeIndex\n",
    "spy_data_close.index = pd.to_datetime(spy_data_close.index)\n",
    "\n",
    "# Resample data to monthly frequency (average values)\n",
    "spy_data_per_month = spy_data_close.resample('M').mean()\n",
    "\n",
    "# Calculate monthly returns\n",
    "# Change: Access the 'SBUX' and 'SPY' columns to get Series\n",
    "spy_returns = spy_data_per_month['SPY'].pct_change()  # Monthly returns for SPY\n",
    "rendement_SBUX_beta = SBUX_data_per_month['SBUX'].pct_change()  # Monthly returns for SBUX\n",
    "\n",
    "\n",
    "# Drop NaN values after pct_change\n",
    "spy_returns = spy_returns.dropna()  # Removing NaN values from SPY returns\n",
    "rendement_SBUX_beta = rendement_SBUX_beta.dropna()  # Removing NaN values from SBUX returns\n",
    "\n",
    "# Calculate beta (covariance/variance) general\n",
    "# Change: Use Series for cov and var calculations\n",
    "beta = rendement_SBUX_beta.cov(spy_returns) / spy_returns.var()\n",
    "\n",
    "print(\"general beta :\" + str(beta))\n",
    "\n",
    "# Define the rolling window size (12 months)\n",
    "window_size = 12\n",
    "\n",
    "# Calculate rolling betas\n",
    "# Rolling covariance and variance\n",
    "# Change: Use Series for rolling calculations\n",
    "rolling_cov = rendement_SBUX_beta.rolling(window=window_size).cov(spy_returns.rolling(window=window_size).mean())\n",
    "rolling_var = spy_returns.rolling(window=window_size).var()\n",
    "\n",
    "# Calculate rolling beta\n",
    "betas_per_month = rolling_cov / rolling_var\n",
    "\n",
    "# Drop NaN values in the rolling beta series\n",
    "betas_per_month = betas_per_month.dropna()\n",
    "\n",
    "# Display the rolling betas\n",
    "print(\"dynamic betas :\" + str(betas_per_month.head))\n",
    "\n",
    "# Explanation of the result\n",
    "print(\"Beta < 1: This suggests that the stock of SBUX is less volatile than the market.\")"
   ]
  },
  {
   "cell_type": "code",
   "execution_count": 163,
   "id": "6f36a05f-2065-45b0-bdbd-1a34d2e32c1c",
   "metadata": {},
   "outputs": [
    {
     "name": "stdout",
     "output_type": "stream",
     "text": [
      "Betas dynamiques avec les mois manquants remplis :\n",
      "               Betas         0\n",
      "2019-01-31 -0.030584       NaN\n",
      "2019-02-28 -0.030584       NaN\n",
      "2019-03-31 -0.030584       NaN\n",
      "2019-04-30 -0.030584       NaN\n",
      "2019-05-31 -0.030584       NaN\n",
      "...              ...       ...\n",
      "2024-07-31       NaN -0.114312\n",
      "2024-08-31       NaN -0.083674\n",
      "2024-09-30       NaN -0.076377\n",
      "2024-10-31       NaN -0.168675\n",
      "2024-11-30       NaN  0.064994\n",
      "\n",
      "[71 rows x 2 columns]\n"
     ]
    },
    {
     "name": "stderr",
     "output_type": "stream",
     "text": [
      "/var/folders/kf/5n1r052170d3qbxzm03bx0m00000gn/T/ipykernel_45916/1268536834.py:4: FutureWarning: 'M' is deprecated and will be removed in a future version, please use 'ME' instead.\n",
      "  dates_to_fill = pd.date_range(start=\"2019-01-01\", end=\"2019-11-30\", freq='M')\n"
     ]
    }
   ],
   "source": [
    "   #We concatenate the dates\n",
    "\n",
    "# Create a DatetimeIndex for the period 2019-01-01 / 2019-11-30\n",
    "dates_to_fill = pd.date_range(start=\"2019-01-01\", end=\"2019-11-30\", freq='M')\n",
    "\n",
    "# Mean of betas that exist to use them for the missing dates\n",
    "betas_per_month_mean = betas_per_month.mean()\n",
    "\n",
    "# Create a dataframe and fil with the computed mean\n",
    "missing_betas = pd.DataFrame({'Betas': [betas_per_month_mean] * len(dates_to_fill)}, index=dates_to_fill)\n",
    "\n",
    "# merge the new and old data frame\n",
    "agregate_betas = pd.concat([missing_betas, betas_per_month])\n",
    "\n",
    "# The result\n",
    "print(\"Betas dynamiques avec les mois manquants remplis :\")\n",
    "print(agregate_betas)\n"
   ]
  },
  {
   "cell_type": "code",
   "execution_count": 185,
   "id": "10389659-fa72-4b83-a54a-adf39a77d857",
   "metadata": {},
   "outputs": [
    {
     "name": "stdout",
     "output_type": "stream",
     "text": [
      "[0.020277400621906333, -0.016606978410145537, -0.033660381763102945, 0.051348116956676494, 0.03449419494549868, 0.03063850436305923, 0.032625786529658835, 0.034749375419405225, 0.053950133082219125, 0.05506125799625179, 0.05236319072160228, 0.057294723880950624, 0.058173825398525246, 0.0541114269005345, 0.05957563995343637, -0.052129992101630884, 0.14094459338829024, 0.0312251032152403, -0.07019909166338555, -0.20002818011977902, -0.256093506867074, -0.13522917964890063, -0.08496510501237191, 0.06827310702803634, 0.23866804928260646, 0.3346882771676422, 0.4011420497136858, 0.42325892078436134, 0.598219716080282, 0.32534086607534407, 0.18511941421013697, -0.09904590511856534, -0.17431787448968028, -0.18065170444897347, -0.18643282633590716, -0.2814926586626547, -0.34598532432314844, -0.2590091095144701, -0.17928449594439502, -0.11031801208365276, -0.03625523416193646, -0.04769688008372441, -0.12443966379661839, -0.12619309832400347, -0.16511734535941844, -0.35996534086567794, -0.42148180957368564, -0.17686949024998205, -0.13714379707145663, -0.07608385610468942, -0.03438892217003226, -0.16714855500373887, -0.03712514649055804, -0.11499404387541456, -0.10816614908808442, -0.11431176824993096, -0.0836743521420761, -0.07637689425259538, -0.16867542284569892, 0.06499366068336544, -0.030583679363640738, -0.030583679363640738, -0.030583679363640738, -0.030583679363640738, -0.030583679363640738, -0.030583679363640738, -0.030583679363640738, -0.030583679363640738, -0.030583679363640738, -0.030583679363640738, -0.030583679363640738]\n"
     ]
    }
   ],
   "source": [
    "#Convert into list\n",
    "\n",
    "betas_list_1 = agregate_betas['Betas'].tolist()\n",
    "betas_list_2 = agregate_betas[0].tolist()\n",
    "betas_list = betas_list_2 + betas_list_1\n",
    "\n",
    "# to remove na values :\n",
    "betas_list = [x for x in betas_list if not pd.isna(x)]\n",
    "print(betas_list)\n"
   ]
  },
  {
   "cell_type": "code",
   "execution_count": 189,
   "id": "8c1a861a-2455-4d60-afe0-1ea934504ffb",
   "metadata": {},
   "outputs": [
    {
     "name": "stderr",
     "output_type": "stream",
     "text": [
      "/var/folders/kf/5n1r052170d3qbxzm03bx0m00000gn/T/ipykernel_45916/514917036.py:3: FutureWarning: 'M' is deprecated and will be removed in a future version, please use 'ME' instead.\n",
      "  date_range = pd.date_range(start='2019-01-01', periods=len(agregate_betas), freq='M')\n"
     ]
    }
   ],
   "source": [
    "#To download the document\n",
    "# Create a date range for months\n",
    "date_range = pd.date_range(start='2019-01-01', periods=len(agregate_betas), freq='M')\n",
    "\n",
    "# Create a DataFrame and export to CSV\n",
    "Beta_frame = pd.DataFrame({'Month': date_range, 'Beta': betas_list})\n",
    "Beta_frame.to_csv('betas_with_months.csv', index=False)\n",
    "# Export toward a csv file\n",
    "absolute_path = relative_path = os.path.join(os.getcwd(),'betas_with_months.csv') # Remplacez par le chemin correct\n",
    "Beta_frame.to_csv(absolute_path, index=True)  # index=True pour inclure l'index\n",
    "\n",
    "# Import the file\n",
    "betas_with_months = pd.read_csv(absolute_path, index_col=0)  # index_col=0 pour utiliser la première colonne comme index"
   ]
  },
  {
   "cell_type": "markdown",
   "id": "f587e6ee-2f0a-4342-8946-31f2aea5a6e2",
   "metadata": {},
   "source": [
    "Conclusion : we have the list \"betas_list\" and the file betas_with_months"
   ]
  },
  {
   "cell_type": "markdown",
   "id": "977c1238-36ee-400f-b993-bec46bc887d9",
   "metadata": {},
   "source": [
    "Interpretation :\n",
    "- If 0 < Beta < 1: This suggests that the stock of SBUX is less volatile than the market. If the S&P 500 increases by 1%, SBUX is expected to increase by less than 1%. This means lower potential returns but also lower risk.\")\n",
    "- If Beta < 0 : This indicates that the stock's price tends to move in the opposite direction of the overall market, if If the S&P 500 increases, SBUX is expected to decrease and with a lower risk \n",
    "- If Beta > 1 : This suggests that the stock of SBUX is more volatile than the market. If the S&P 500 increases by 1%, SBUX is expected to increase by more than 1%. This means higher potential returns but also higher risk.\")"
   ]
  },
  {
   "cell_type": "markdown",
   "id": "5a54dafb-6757-4ad3-b7c6-0c8ef022de25",
   "metadata": {},
   "source": [
    " 2. Incorporate volatility measures and risk indicators to contextualize predictions in our model"
   ]
  },
  {
   "cell_type": "markdown",
   "id": "519c034f-f518-48f5-92b9-b818cac38fff",
   "metadata": {},
   "source": [
    "Note : for the sake of comparison we will keep the linear model and the random forest model to see how the calculations differ"
   ]
  },
  {
   "cell_type": "markdown",
   "id": "a25e8e34-221b-45f2-a5b9-690965cde7e5",
   "metadata": {},
   "source": [
    " 2.a / Random forest "
   ]
  },
  {
   "cell_type": "code",
   "execution_count": 191,
   "id": "4c19b500-4ae4-48f7-bcf0-21e16c3a646c",
   "metadata": {},
   "outputs": [
    {
     "name": "stdout",
     "output_type": "stream",
     "text": [
      "Mean Squared Error: 25.691931585781855\n",
      "Feature Importances:\n",
      "               Variable  Importance\n",
      "2     list_CPI_agregate    0.550741\n",
      "4      std_SBUX_monthly    0.313417\n",
      "1     list_fed_agregate    0.061524\n",
      "0  all_sentiment_scores    0.038974\n",
      "3            betas_list    0.035345\n"
     ]
    }
   ],
   "source": [
    "\n",
    "# We will use the last dataframe dt\n",
    "dt[\"betas_list\"]=betas_list\n",
    "dt[\"std_SBUX_monthly\"]=std_SBUX_monthly\n",
    "X = dt[['all_sentiment_scores', 'list_fed_agregate', 'list_CPI_agregate','betas_list','std_SBUX_monthly']]\n",
    "y = dt['List_prix_agregate']\n",
    "\n",
    "# 1. Split data into training and testing sets\n",
    "X_train, X_test, y_train, y_test = train_test_split(X, y, test_size=0.2, random_state=45)\n",
    "\n",
    "# 2. Feature scaling (optional for Random Forest, but generally good practice)\n",
    "scaler = StandardScaler()\n",
    "X_train = scaler.fit_transform(X_train)\n",
    "X_test = scaler.transform(X_test)\n",
    "\n",
    "# 3. Create and train the Random Forest model\n",
    "forest_model = RandomForestRegressor(n_estimators=100, random_state=45)  # Adjust hyperparameters as needed\n",
    "forest_model.fit(X_train, y_train)\n",
    "\n",
    "# 4. Make predictions\n",
    "y_pred = forest_model.predict(X_test)\n",
    "\n",
    "# 5. Evaluate the model\n",
    "mse = mean_squared_error(y_test, y_pred)\n",
    "print(f\"Mean Squared Error: {mse}\")\n",
    "\n",
    "# 6. If we look at coefficients by importance :\n",
    "feature_importances = forest_model.feature_importances_\n",
    "importance = pd.DataFrame({'Variable': X.columns, 'Importance': feature_importances})\n",
    "importance = importance.sort_values(by='Importance', ascending=False)\n",
    "print(\"Feature Importances:\")\n",
    "print(importance)"
   ]
  },
  {
   "cell_type": "markdown",
   "id": "2d77fe7b-4366-4f80-a169-b41ab2cff2af",
   "metadata": {},
   "source": [
    " 2.b/ Linear regression"
   ]
  },
  {
   "cell_type": "markdown",
   "id": "40f4c788-8fb2-4c20-bb28-439f8f0de047",
   "metadata": {},
   "source": [
    "## Adding volatility and risk factors\n",
    "\n",
    "Let's add some new factors that suit bettter with the specificity of stocks. Those financial products are indeed both really volatile and risky."
   ]
  },
  {
   "cell_type": "code",
   "execution_count": 196,
   "id": "e642ddf2-8a13-4fc9-aa17-2800601b0dd7",
   "metadata": {},
   "outputs": [],
   "source": [
    "new_super_liste = [[], []]\n",
    "\n",
    "#Volatility\n",
    "with open(absolute_path_std) as file_3:\n",
    "    data_2 = file_3.readlines()\n",
    "    for line in data_2[1:]:\n",
    "        colonnes = line.split(',')\n",
    "        new_super_liste[0].append(float(colonnes[-1]))\n",
    "\n",
    "#Risk indicator\n",
    "with open('betas_with_months.csv','r') as file_3:\n",
    "    data_3 = file_3.readlines()\n",
    "    for line in data_3[1:]:\n",
    "        colonnes = line.split(',')\n",
    "        new_super_liste[1].append(float(colonnes[-1]))"
   ]
  },
  {
   "cell_type": "markdown",
   "id": "9d52a456-29d3-4eec-bf41-dc2241aeba2e",
   "metadata": {},
   "source": [
    "## The new matrix"
   ]
  },
  {
   "cell_type": "code",
   "execution_count": 200,
   "id": "f64483d0-2142-43bf-8837-69f9e71d9e99",
   "metadata": {},
   "outputs": [
    {
     "name": "stdout",
     "output_type": "stream",
     "text": [
      "Here are the new coefficients : [   3.34038892   -2.03305099    0.38926374   14.28210433 -322.68050645\n",
      "  -16.85442789   21.58896746]\n",
      "The initial correlation matrix is :\n",
      "\n",
      "[[ 1.          0.77719308 -0.20721366 -0.02574426 -0.4222437  -0.35789591]\n",
      " [ 0.77719308  1.         -0.34080822 -0.16032031 -0.42497376 -0.36233192]\n",
      " [-0.20721366 -0.34080822  1.         -0.05484764  0.18820852  0.16185094]\n",
      " [-0.02574426 -0.16032031 -0.05484764  1.          0.1277658   0.13832937]\n",
      " [-0.4222437  -0.42497376  0.18820852  0.1277658   1.          0.91815962]\n",
      " [-0.35789591 -0.36233192  0.16185094  0.13832937  0.91815962  1.        ]]\n",
      "      \n",
      "As we can seen, no dependent variable is correleted to another one more than 0.95.\n"
     ]
    }
   ],
   "source": [
    "new_obs_matrix = np.array(new_super_liste)\n",
    "new_obs_matrix.shape = (71, 2)\n",
    "\n",
    "X_2 = np.append(X, new_obs_matrix, axis = 1)\n",
    "\n",
    "Beta_2 = inv(X_2.T @ X_2) @ X_2.T @ y\n",
    "\n",
    "print(f'Here are the new coefficients : {Beta_2}')\n",
    "\n",
    "#Creation correlation matrix\n",
    "\n",
    "corr_X_2 = np.delete(X_2, obj = 0, axis = 1)\n",
    "corr_X_2 = np.corrcoef(corr_X_2.T)\n",
    "\n",
    "#Let's remove a variable whose correlation with another is superior than .95.\n",
    "#Perhaps, no variable is as much correlated to another one.\n",
    "\n",
    "print(f'''The initial correlation matrix is :\n",
    "\n",
    "{corr_X_2}\n",
    "      ''')\n",
    "print(\"As we can seen, no dependent variable is correleted to another one more than 0.95.\")\n"
   ]
  },
  {
   "cell_type": "markdown",
   "id": "d76dfbe1-f5ac-47e7-811a-7a018f469cbd",
   "metadata": {},
   "source": [
    "## Is this model better ?\n",
    "\n",
    "In order to answer to question, we need to compute the tests and the new R²."
   ]
  },
  {
   "cell_type": "code",
   "execution_count": 202,
   "id": "3f4592b8-1cd3-4386-8193-1faa3bb7a5fb",
   "metadata": {},
   "outputs": [
    {
     "name": "stdout",
     "output_type": "stream",
     "text": [
      "Here is a comparison between the new one : 0.37093, and the previous one : 0.25098\n"
     ]
    }
   ],
   "source": [
    "new_R2 = np.var(X_2 @ Beta_2) / np.var(y)\n",
    "\n",
    "print(f'Here is a comparison between the new one : {new_R2:.5f}, and the previous one : {R_squared_2:.5f}')"
   ]
  },
  {
   "cell_type": "code",
   "execution_count": 204,
   "id": "88d8ca2a-6ee9-4ed4-851d-a0fee5e35756",
   "metadata": {},
   "outputs": [
    {
     "name": "stdout",
     "output_type": "stream",
     "text": [
      "The t statistic of Β0 is equal to 1.1040617910746424 and\n",
      "is'nt significant.\n",
      "\n",
      "The t statistic of Β1 is equal to -2.744496289333454 and\n",
      "is'nt significant.\n",
      "\n",
      "The t statistic of Β2 is equal to 20.16009086621801 and\n",
      "is significant.\n",
      "\n",
      "The t statistic of Β3 is equal to 1.837552919111836 and\n",
      "is'nt significant.\n",
      "\n",
      "The t statistic of Β4 is equal to -3.9659139591116683 and\n",
      "is'nt significant.\n",
      "\n",
      "The t statistic of Β5 is equal to -0.6058466891321516 and\n",
      "is'nt significant.\n",
      "\n",
      "The t statistic of Β6 is equal to 0.9043336954516964 and\n",
      "is'nt significant.\n",
      "\n",
      "Overall, the addition of the new variables in the multiple linear regression doesn't make the model better as these new coefficients aren't significant.\n"
     ]
    }
   ],
   "source": [
    "#Statistical test\n",
    "estimated_residual_var_2 = sum((y - X_2 @ Beta_2)**2) / (len(y) - len(Beta_2))\n",
    "t_score_2 = []\n",
    "\n",
    "#Variance-covariance matrix\n",
    "var_cov_2 = estimated_residual_var_2 * inv(X_2.T @ X_2)\n",
    "\n",
    "#Student test for each coefficient\n",
    "for i,j,k in zip(Beta_2, range(len(Beta_2)), range(len(Beta_2))):\n",
    "  t = i / m.sqrt(var_cov_2[j][j]) #t-ratio\n",
    "  if t > stats.t.ppf(0.975, df = len(y) - len(Beta_2)):\n",
    "    print(f'''The t statistic of \\N{GREEK CAPITAL LETTER BETA}{k} is equal to {t} and\n",
    "is significant.\\n''')\n",
    "    t_score.append(t)\n",
    "\n",
    "      \n",
    "  else:\n",
    "    print(f'''The t statistic of \\N{GREEK CAPITAL LETTER BETA}{k} is equal to {t} and\n",
    "is\\'nt significant.\\n''')\n",
    "  t_score.append(t)\n",
    "\n",
    "print(\"Overall, the addition of the new variables in the multiple linear regression doesn't make the model better as these new coefficients aren't significant.\")"
   ]
  },
  {
   "cell_type": "code",
   "execution_count": null,
   "id": "cfbd54f9-e9d6-4e0e-a811-09f647a521f3",
   "metadata": {},
   "outputs": [],
   "source": [
    "SCR_2 = sum((y - X_2 @ Beta_2)**2)\n",
    "print(f'The new SCR is {SCR_2:.0f} and is lower then the last one')"
   ]
  },
  {
   "cell_type": "markdown",
   "id": "7b29d47f-d7bd-45fe-9fae-9629221a72b5",
   "metadata": {},
   "source": [
    "We see that the mean squared error of random forest is always inferior to this one which confirm that the random forest is our best model !"
   ]
  },
  {
   "cell_type": "markdown",
   "id": "f0bd61da-788d-4eb1-a4e6-31055e90a47a",
   "metadata": {},
   "source": [
    "TASK 5 : Visualisation\n",
    "\n"
   ]
  },
  {
   "cell_type": "code",
   "execution_count": null,
   "id": "877eafe2-4e26-47f5-b1d4-fff0d5cdf6c7",
   "metadata": {},
   "outputs": [],
   "source": [
    "import matplotlib.pyplot as plt\n",
    "from mpl_toolkits.mplot3d import Axes3D\n",
    "!pip install seaborn \n",
    "import matplotlib.pyplot as plt\n",
    "import pandas as pd\n",
    "import seaborn as sns"
   ]
  },
  {
   "cell_type": "markdown",
   "id": "4bce5d2e-f119-4844-ac12-f6ea56c35669",
   "metadata": {},
   "source": [
    "Section 1: Sentiment Trends (2019-2024)\n"
   ]
  },
  {
   "cell_type": "code",
   "execution_count": null,
   "id": "0077ed21-9c5d-4281-a93f-07e805c492a0",
   "metadata": {},
   "outputs": [],
   "source": [
    "\n",
    "# Load sentiment data\n",
    "sentiments = pd.read_csv(absolute_path_Sentiment)\n",
    "sentiments['date'] = pd.to_datetime(sentiments['date'])\n",
    "\n",
    "# Calculate the average sentiment score per month\n",
    "monthly_sentiments = sentiments.groupby(sentiments['date'].dt.to_period(\"M\")).mean()\n",
    "\n",
    "# Sentiment trends graph with highlights for critical periods\n",
    "plt.figure(figsize=(10, 6))\n",
    "plt.plot(monthly_sentiments.index.to_timestamp(), monthly_sentiments['sentiment_score'], label=\"Average Sentiment\", marker=\"o\")\n",
    "plt.axvspan('2020-01', '2020-12', color='red', alpha=0.2, label=\"COVID-19 (2020)\")\n",
    "plt.axvspan('2023-01', '2023-12', color='blue', alpha=0.2, label=\"Boycott (2023)\")\n",
    "plt.title(\"Sentiment Trends (2019–2024)\")\n",
    "plt.xlabel(\"Date\")\n",
    "plt.ylabel(\"Average Sentiment Score\")\n",
    "plt.grid(True)\n",
    "plt.legend()\n",
    "plt.show()\n"
   ]
  },
  {
   "cell_type": "markdown",
   "id": "5d8d46fe-681b-4368-bf4a-1a71429b8ee3",
   "metadata": {},
   "source": [
    "Interpretation:\n",
    "\n",
    "The sentiment scores ranged from -1 to +1, showing strong emotions in the market during important events. A sharp increase in positive sentiment probably shows optimism connected to reopening along with recovery plans. More and more negative feelings might show that investors are worried about geopolitical risks coupled with economic instability. The important high points and low points suggest that Starbucks is sensitive to what people think about the market, especially during times of global crises or controversies.\n",
    "Positive feelings increased in 2020 along with consumer hope during the recovery after COVID. A decrease in 2023 is linked to the boycott movement, showing the danger to Starbucks' reputation.\n",
    "\n",
    "Notable peaks:\n",
    "\n",
    "2020: A sudden increase in positive sentiments (likely linked to post-COVID reopening).\n",
    "2021: Significant fluctuations, potentially caused by contradictory news or post-crisis adjustments.\n",
    "2022-2023: Periods of more negative sentiments, possibly influenced by fears of a global recession and as we have said earlier by Israelo-Palestinian wars. \n",
    "\n",
    "Rapid fluctuations suggest that the market strongly reacts to economic and financial news. Positive and negative peaks may indicate moments of opportunity or risk in the market.\n",
    "\n"
   ]
  },
  {
   "cell_type": "markdown",
   "id": "12b2fa46-c830-48e2-82f0-5e98fc347a46",
   "metadata": {},
   "source": [
    "Section 2: Starbucks Stock Prices (2019-2024)"
   ]
  },
  {
   "cell_type": "code",
   "execution_count": null,
   "id": "5cfcfb59-c444-493e-8346-c5413c53c8d5",
   "metadata": {},
   "outputs": [],
   "source": [
    "# Load stock price data\n",
    "prices = pd.read_csv(\"SBUX_price_data_close_per_month.csv\")\n",
    "prices['Date'] = pd.to_datetime(prices['Date'])\n",
    "\n",
    "# Stock price graph\n",
    "plt.figure(figsize=(10, 6))\n",
    "plt.plot(prices['Date'], prices['SBUX'], label=\"SBUX Prices\", color=\"orange\", marker=\"o\")\n",
    "plt.axvspan('2020-01', '2020-12', color='red', alpha=0.2, label=\"COVID-19 (2020)\")\n",
    "plt.axvspan('2023-01', '2023-12', color='blue', alpha=0.2, label=\"Boycott (2023)\")\n",
    "plt.title(\"Starbucks Stock Price Evolution (2019–2024)\")\n",
    "plt.xlabel(\"Date\")\n",
    "plt.ylabel(\"Closing Price ($)\")\n",
    "plt.grid(True)\n",
    "plt.legend()\n",
    "plt.show()\n"
   ]
  },
  {
   "cell_type": "markdown",
   "id": "ab9fa918-7c29-4733-abeb-43a532914ff0",
   "metadata": {},
   "source": [
    "Interpretation:\n",
    "\n",
    "Starbucks' stock prices changed a lot over the years. An outstandingly strong and sustained upward trend was observed to coincide with the post-COVID recovery, propelled by importantly increased consumer spending and large optimism regarding economic recovery. Global inflation and increased interest rates are likely causing a sharp drop in stock prices. This effects consumer confidence. A partial recovery goes along with less market uncertainty, as well as the stabilization of Starbucks' reputation following the boycott.\n",
    "Stock price trends show that Starbucks was strong during the pandemic but also affected by global financial challenges. Some events, like the boycott in 2023, had a small, short-term effect on prices. This may be because of strong brand loyalty and also be explained by the fact that the boycott did not take place all over the world countries."
   ]
  },
  {
   "cell_type": "markdown",
   "id": "2fab809c-d21d-4f0a-a7e0-300041a403dd",
   "metadata": {},
   "source": [
    "Section 3: Risk Analysis (Volatility and Beta Coefficients)"
   ]
  },
  {
   "cell_type": "code",
   "execution_count": 206,
   "id": "43a8d9fa-0ed1-49b0-938b-988a66263df8",
   "metadata": {},
   "outputs": [
    {
     "name": "stderr",
     "output_type": "stream",
     "text": [
      "/var/folders/kf/5n1r052170d3qbxzm03bx0m00000gn/T/ipykernel_45916/393855953.py:8: FutureWarning: 'M' is deprecated and will be removed in a future version, please use 'ME' instead.\n",
      "  date_range = pd.date_range(start=\"2019-01-01\", end=\"2024-11-30\", freq='M')\n"
     ]
    },
    {
     "data": {
      "image/png": "[encoded data removed]",
      "text/plain": [
       "<Figure size 800x400 with 2 Axes>"
      ]
     },
     "metadata": {},
     "output_type": "display_data"
    }
   ],
   "source": [
    "import pandas as pd\n",
    "import matplotlib.pyplot as plt\n",
    "\n",
    "# Load the volatility CSV file\n",
    "volatility = pd.read_csv(absolute_path_std)\n",
    "\n",
    "# Create a list of dates from January 2019 to November 2024 (monthly)\n",
    "date_range = pd.date_range(start=\"2019-01-01\", end=\"2024-11-30\", freq='M')\n",
    "\n",
    "# Check if the length of the date range matches the length of the DataFrame\n",
    "if len(date_range) == len(volatility):\n",
    "    volatility['Date'] = date_range\n",
    "else:\n",
    "    print(f\"Error: The size of the dates ({len(date_range)}) does not match the size of the DataFrame ({len(volatility)})\")\n",
    "    # If necessary, adjust the date range size (e.g., truncate or extend)\n",
    "    date_range = date_range[:len(volatility)]\n",
    "    volatility['Date'] = date_range\n",
    "# Convert the 'Date' column to datetime format\n",
    "volatility['Date'] = pd.to_datetime(volatility['Date'])\n",
    "\n",
    "\n",
    "# Load the betas CSV file\n",
    "betas = pd.read_csv(\"betas_with_months.csv\")\n",
    "\n",
    "# Convert the 'Month' column to datetime format\n",
    "betas['Month'] = pd.to_datetime(betas['Month'])\n",
    "\n",
    "# Create a combined plot for volatility and beta coefficients\n",
    "fig, ax1 = plt.subplots(figsize=(8, 4))\n",
    "\n",
    "# Plot volatility (SBUX) on the primary axis\n",
    "ax1.plot(volatility['Date'], volatility['SBUX'], label=\"Volatility (Standard Deviation)\", color=\"green\", marker=\"o\")\n",
    "ax1.set_xlabel(\"Date\")\n",
    "ax1.set_ylabel(\"Volatility\", color=\"green\")\n",
    "ax1.tick_params(axis='y', labelcolor=\"green\")\n",
    "\n",
    "# Plot beta coefficients on a secondary axis\n",
    "ax2 = ax1.twinx()\n",
    "ax2.plot(betas['Month'], betas['Beta'], label=\"Beta\", color=\"orange\", linestyle=\"--\", marker=\"x\")\n",
    "ax2.set_ylabel(\"Beta\", color=\"orange\")\n",
    "ax2.tick_params(axis='y', labelcolor=\"orange\")\n",
    "\n",
    "# Add the title\n",
    "plt.title(\"Risk Analysis: Volatility and Beta Coefficients (2019-2024)\")\n",
    "\n",
    "# Improve the layout and appearance\n",
    "fig.tight_layout()\n",
    "\n",
    "# Add a grid to the plot\n",
    "plt.grid(True)\n",
    "\n",
    "# Display the plot\n",
    "plt.show()\n"
   ]
  },
  {
   "cell_type": "markdown",
   "id": "52b8682b-e379-44b7-b8d3-e8e46d816b6d",
   "metadata": {},
   "source": [
    "Volatility and beta values show how much Starbucks is affected by market risk.\n",
    "Volatility peaks in 2020 and 2022 reflect global uncertainty and economic challenges. Starbucks stock has a low beta (less than 0.5), meaning it is a relatively safe investment that does not move much with the overall market.\n",
    "The sharp ups and downs during the pandemic and times of inflation show that investors feel more uncertain. Low beta values show that Starbucks is a less risky investment when compared to stocks that are highly sensitive to the market."
   ]
  },
  {
   "cell_type": "markdown",
   "id": "7c76f4c4-dad1-436c-8396-9e2c16098bb4",
   "metadata": {},
   "source": [
    "Section 4: Correlation Heatmap (Price and other variables)"
   ]
  },
  {
   "cell_type": "code",
   "execution_count": 210,
   "id": "ac7144f5-d028-4e4d-87a1-ce61637dd819",
   "metadata": {},
   "outputs": [
    {
     "data": {
      "image/png": "[encoded data removed]",
      "text/plain": [
       "<Figure size 1000x600 with 2 Axes>"
      ]
     },
     "metadata": {},
     "output_type": "display_data"
    }
   ],
   "source": [
    "import seaborn as sns\n",
    "\n",
    "\n",
    "# Load data for correlation analysis\n",
    "# Load data\n",
    "prices = pd.read_csv(\"SBUX_price_data_close_per_month.csv\")\n",
    "sentiments = pd.read_csv(absolute_path_Sentiment)\n",
    "\n",
    "# Convert dates\n",
    "prices['Date'] = pd.to_datetime(prices['Date'])\n",
    "sentiments['date'] = pd.to_datetime(sentiments['date'])\n",
    "volatility['Date'] = pd.to_datetime(volatility['Date'])\n",
    "\n",
    "# Merge datasets\n",
    "merged_data = pd.merge(prices, sentiments, left_on='Date', right_on='date')\n",
    "merged_data = pd.merge(merged_data, volatility, on='Date')\n",
    "\n",
    "# Calculate the correlation matrix\n",
    "correlation_matrix = merged_data.corr()\n",
    "\n",
    "# Correlation heatmap\n",
    "plt.figure(figsize=(10, 6))\n",
    "sns.heatmap(correlation_matrix, annot=True, fmt=\".2f\", cmap=\"coolwarm\", square=True)\n",
    "plt.title(\"Correlation Heatmap\")\n",
    "plt.show()\n",
    "\n"
   ]
  },
  {
   "cell_type": "markdown",
   "id": "cfbb12b2-1581-489b-8fb0-d790a57ad1f3",
   "metadata": {},
   "source": [
    "Interpretation :\n",
    "\n",
    "The correlation heatmap shows how market sentiments, stock prices and economic factors are related.\n",
    "The weak link between sentiment scores and stock prices indicates that feelings alone do not cause price changes. A moderately strong correlation exists between stock prices, volatility, as well as beta coefficients. This suggests that macroeconomic conditions importantly influence Starbucks' financial performance.\n",
    "Sentiment effects seem to be more about psychology and short-term changes, while stock prices are mainly influenced by financial basics and market conditions. Periods of uncertainty can be navigated and opportunities can be identified, by investors who understand these relationships."
   ]
  },
  {
   "cell_type": "markdown",
   "id": "1bd2df78-6662-4d7e-a689-f05288bbb8ec",
   "metadata": {},
   "source": [
    "Let's make a visualisation in 3 dimensions with FED Reserve interest rate and inflation level. The dependent variable stays the same.\n"
   ]
  },
  {
   "cell_type": "code",
   "execution_count": 291,
   "id": "0836da4b-1129-42bb-8513-1cc6becd2615",
   "metadata": {},
   "outputs": [
    {
     "name": "stdout",
     "output_type": "stream",
     "text": [
      "[-0.05387746 -7.46290655  7.82105888]\n"
     ]
    },
    {
     "data": {
      "image/png": "[encoded data removed]",
      "text/plain": [
       "<Figure size 1000x800 with 1 Axes>"
      ]
     },
     "metadata": {},
     "output_type": "display_data"
    }
   ],
   "source": [
    "X_3 = np.array(super_liste[:3])\n",
    "X_3.shape = (71, 3)\n",
    "\n",
    "Beta_3 = inv(X_3.T @ X_3) @ X_3.T @ y\n",
    "\n",
    "print(Beta_3)\n",
    "\n",
    "\n",
    "X1_grid, X2_grid = np.meshgrid(np.linspace(min(X_3[:, 1]), max(X_3[:, 1]), 10),\n",
    "                               np.linspace(min(X_3[:, 2]), max(X_3[:, 2]), 5))\n",
    "Y_grid = Beta_3[0] + Beta_3[1] * X1_grid + Beta_3[2] * X2_grid\n",
    "\n",
    "# In 3D to vizualize\n",
    "fig = plt.figure(figsize=(10, 8))\n",
    "ax = fig.add_subplot(111, projection='3d')\n",
    "\n",
    "# Nuage de points\n",
    "ax.scatter(X_3[:, 1], X_3[:, 2], y, color='blue', label='Données (Nuage de Points)')\n",
    "\n",
    "\n",
    "ax.plot_surface(X1_grid , X2_grid, Y_grid * 0.1, color='red', alpha=0.5)\n",
    "\n",
    "\n",
    "# Quelques légendes.\n",
    "ax.set_title('Nuage de Points et Plan de Régression en 3D')\n",
    "ax.set_xlabel('Taux d\\'Inflation')\n",
    "ax.set_ylabel('Taux d\\'Intérêt')\n",
    "ax.set_zlabel('Prix / Rentabilité')\n",
    "\n",
    "plt.show()\n"
   ]
  },
  {
   "cell_type": "markdown",
   "id": "5b9bac6f-6679-4dca-929e-f6e2d7a253aa",
   "metadata": {},
   "source": [
    "# Asset price prediction model based on random forest model coefficients of sentiments and CPI"
   ]
  },
  {
   "cell_type": "markdown",
   "id": "2445718b-0186-4ddb-912f-03ee080354ea",
   "metadata": {},
   "source": [
    "Since we can't make a sixth dimension graph, we will be doing a graph based on only 3 variable for asset price prediction"
   ]
  },
  {
   "cell_type": "code",
   "execution_count": 216,
   "id": "8a68ab2f-aa4c-4260-a67a-09e89bbf187e",
   "metadata": {},
   "outputs": [
    {
     "name": "stdout",
     "output_type": "stream",
     "text": [
      "Mean Squared Error: 25.691931585781855\n",
      "Feature Importances:\n",
      "               Variable  Importance\n",
      "2     list_CPI_agregate    0.550741\n",
      "4      std_SBUX_monthly    0.313417\n",
      "1     list_fed_agregate    0.061524\n",
      "0  all_sentiment_scores    0.038974\n",
      "3            betas_list    0.035345\n"
     ]
    },
    {
     "data": {
      "image/png": "[encoded data removed]",
      "text/plain": [
       "<Figure size 1000x600 with 1 Axes>"
      ]
     },
     "metadata": {},
     "output_type": "display_data"
    }
   ],
   "source": [
    "import matplotlib.pyplot as plt\n",
    "from sklearn.metrics import mean_squared_error\n",
    "from sklearn.preprocessing import StandardScaler\n",
    "from sklearn.ensemble import RandomForestRegressor\n",
    "\n",
    "# 1. Prepare your dataset\n",
    "# Assuming 'dt' is your dataframe with the relevant data.\n",
    "dt[\"betas_list\"] = betas_list\n",
    "dt[\"std_SBUX_monthly\"] = std_SBUX_monthly\n",
    "\n",
    "# Define the feature columns (X) and target (y)\n",
    "X = dt[['all_sentiment_scores', 'list_fed_agregate', 'list_CPI_agregate', 'betas_list', 'std_SBUX_monthly']]\n",
    "y = dt['List_prix_agregate']\n",
    "\n",
    "# 2. Split the data into training and testing sets\n",
    "from sklearn.model_selection import train_test_split\n",
    "X_train, X_test, y_train, y_test = train_test_split(X, y, test_size=0.2, random_state=45)\n",
    "\n",
    "# 3. Feature scaling (optional for Random Forest, but generally good practice)\n",
    "scaler = StandardScaler()\n",
    "X_train = scaler.fit_transform(X_train)\n",
    "X_test = scaler.transform(X_test)\n",
    "\n",
    "# 4. Create and train the Random Forest model\n",
    "forest_model = RandomForestRegressor(n_estimators=100, random_state=45)  # Adjust hyperparameters as needed\n",
    "forest_model.fit(X_train, y_train)\n",
    "\n",
    "# 5. Make predictions on the test set\n",
    "y_pred = forest_model.predict(X_test)\n",
    "\n",
    "# 6. Evaluate the model (Mean Squared Error)\n",
    "mse = mean_squared_error(y_test, y_pred)\n",
    "print(f\"Mean Squared Error: {mse}\")\n",
    "\n",
    "# 7. Feature Importance\n",
    "feature_importances = forest_model.feature_importances_\n",
    "importance = pd.DataFrame({'Variable': X.columns, 'Importance': feature_importances})\n",
    "importance = importance.sort_values(by='Importance', ascending=False)\n",
    "print(\"Feature Importances:\")\n",
    "print(importance)\n",
    "\n",
    "# 8. Plotting Actual vs Predicted prices\n",
    "plt.figure(figsize=(10, 6))\n",
    "sns.set(style=\"whitegrid\")\n",
    "\n",
    "# Plot actual vs predicted prices\n",
    "plt.scatter(y_test, y_pred, color='blue', label='Predicted vs Actual', alpha=0.7)\n",
    "\n",
    "# Add a line of perfect prediction\n",
    "plt.plot([min(y_test), max(y_test)], [min(y_test), max(y_test)], color='red', linestyle='--', label='Perfect Prediction')\n",
    "\n",
    "plt.title(\"Actual vs Predicted Prices (Random Forest Model)\", fontsize=16)\n",
    "plt.xlabel(\"Actual Prices\", fontsize=14)\n",
    "plt.ylabel(\"Predicted Prices\", fontsize=14)\n",
    "plt.legend()\n",
    "\n",
    "# Show plot\n",
    "plt.show()\n"
   ]
  },
  {
   "cell_type": "markdown",
   "id": "fd21724e-ef59-4262-9db6-3baf7c1fcc1d",
   "metadata": {},
   "source": [
    "# Final conclusion\n",
    "This project looked at the multiple factors that affect Starbucks' stock prices by analyzing market sentiments, stock prices, financial risks, economic connections and statistical models. We chose Starbucks as a case study to show two important times: the COVID-19 pandemic (2019–2022) and the geopolitical controversies of 2023.\n",
    "This detailed analysis shows that Starbucks' performance in financial markets is influenced by market feelings, economic basics and worldwide trends. Highly important periods such as the pandemic or deeply impactful geopolitical controversies show that, while sentiments may have an immediate and intense emotional effect, it is economic indicators coupled with financial risks that fundamentally drive long-term variations."
   ]
  },
  {
   "cell_type": "markdown",
   "id": "32964ce3-a26a-48bc-9b3e-b27ee9ac3a57",
   "metadata": {},
   "source": [
    "# Get the requirement.txt "
   ]
  },
  {
   "cell_type": "code",
   "execution_count": null,
   "id": "eb629dfd-b8bf-4ee0-bf08-10ba3c13c680",
   "metadata": {},
   "outputs": [],
   "source": [
    "!pip freeze > requirements.txt\n",
    "\n"
   ]
  }
 ],
 "metadata": {
  "kernelspec": {
   "display_name": "Python 3 (ipykernel)",
   "language": "python",
   "name": "python3"
  },
  "language_info": {
   "codemirror_mode": {
    "name": "ipython",
    "version": 3
   },
   "file_extension": ".py",
   "mimetype": "text/x-python",
   "name": "python",
   "nbconvert_exporter": "python",
   "pygments_lexer": "ipython3",
   "version": "3.12.4"
  }
 },
 "nbformat": 4,
 "nbformat_minor": 5
}
